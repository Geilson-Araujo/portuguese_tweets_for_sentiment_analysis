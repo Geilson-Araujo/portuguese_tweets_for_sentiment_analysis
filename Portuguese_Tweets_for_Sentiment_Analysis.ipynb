{
  "nbformat": 4,
  "nbformat_minor": 0,
  "metadata": {
    "kernelspec": {
      "name": "python3",
      "display_name": "Python 3"
    },
    "colab": {
      "name": "Portuguese_Tweets_for_Sentiment_Analysis.ipynb",
      "provenance": [],
      "collapsed_sections": []
    },
    "accelerator": "GPU"
  },
  "cells": [
    {
      "cell_type": "code",
      "metadata": {
        "id": "m4nszSJi_3UU"
      },
      "source": [
        "# # !python -m pip install -U spacy\n",
        "# !python -m pip install -U spacy-lookups-data\n",
        "# !python -m spacy download pt_core_news_sm\n",
        "# # !python -m pip install -U unidecode\n",
        "# # !python -m pip install -U tensorflow\n",
        "# !wget http://143.107.183.175:22980/download.php?file=embeddings/glove/glove_s100.zip -O glove_s100.zip\n",
        "# !unzip glove_s100.zip"
      ],
      "execution_count": 1,
      "outputs": []
    },
    {
      "cell_type": "code",
      "metadata": {
        "id": "3OT7crA37efb"
      },
      "source": [
        ""
      ],
      "execution_count": 1,
      "outputs": []
    },
    {
      "cell_type": "markdown",
      "metadata": {
        "id": "2J-E4Qrl5Xnq"
      },
      "source": [
        "## Content\n",
        "    \n",
        "    The tweets in the dataset were collected from Twitter mainly from 01/08/2018 to 20/10/2018.\n",
        "    \n",
        "    Training datasets:\n",
        "    \n",
        "    100k positive, negative and neutral tweets without any theme\n",
        "    \n",
        "    All of them have an equal number of instances between classes. Their sentiment labels were transformed as follow:\n",
        "    \n",
        "    Negative label: 0\n",
        "    Positive label: 1\n",
        "    Neutral  label: 2"
      ]
    },
    {
      "cell_type": "markdown",
      "metadata": {
        "id": "YG5yKVEQ5Xnr"
      },
      "source": [
        "## Import useful libraries and modules"
      ]
    },
    {
      "cell_type": "code",
      "metadata": {
        "id": "as3LEJVj-nX6",
        "outputId": "1c6c4140-bd7d-4613-f672-25443837b16f",
        "colab": {
          "base_uri": "https://localhost:8080/"
        }
      },
      "source": [
        "%%time\n",
        "\n",
        "import random\n",
        "import re\n",
        "import string\n",
        "from unidecode import unidecode\n",
        "\n",
        "import pandas as pd\n",
        "import numpy as np\n",
        "\n",
        "import matplotlib.pyplot as plt\n",
        "import seaborn as sns\n",
        "from wordcloud import WordCloud, ImageColorGenerator\n",
        "\n",
        "from bs4 import BeautifulSoup\n",
        "\n",
        "import nltk\n",
        "from nltk.corpus import stopwords\n",
        "from nltk.tokenize import TweetTokenizer\n",
        "from nltk.stem import RSLPStemmer\n",
        "from nltk.stem.snowball import PortugueseStemmer\n",
        "\n",
        "import spacy\n",
        "from spacy.lang.pt import Portuguese\n",
        "\n",
        "from gensim.models import KeyedVectors\n",
        "\n",
        "import tensorflow as tf\n",
        "from tensorflow.keras.preprocessing.text import Tokenizer\n",
        "from tensorflow.keras.preprocessing.sequence import pad_sequences\n",
        "\n",
        "from sklearn.preprocessing import LabelEncoder\n",
        "from sklearn.model_selection import train_test_split\n",
        "from sklearn.metrics import confusion_matrix, classification_report\n",
        "\n",
        "from pprint import pprint\n",
        "from tqdm import tqdm\n",
        "\n",
        "import warnings\n",
        "warnings.filterwarnings('ignore')\n",
        "\n",
        "pd.set_option('display.max_rows', None)\n",
        "pd.set_option('display.max_columns', None)\n",
        "pd.set_option('display.max_colwidth', None)\n",
        "pd.set_option('display.width', None)\n",
        "\n",
        "print(tf.__version__)\n",
        "\n",
        "# NLTK downloads\n",
        "nltk.download('stopwords')\n",
        "nltk.download('rslp')"
      ],
      "execution_count": 2,
      "outputs": [
        {
          "output_type": "stream",
          "text": [
            "2.3.1\n",
            "[nltk_data] Downloading package stopwords to /root/nltk_data...\n",
            "[nltk_data]   Package stopwords is already up-to-date!\n",
            "[nltk_data] Downloading package rslp to /root/nltk_data...\n",
            "[nltk_data]   Package rslp is already up-to-date!\n",
            "CPU times: user 1.89 s, sys: 213 ms, total: 2.11 s\n",
            "Wall time: 2.14 s\n"
          ],
          "name": "stdout"
        }
      ]
    },
    {
      "cell_type": "code",
      "metadata": {
        "id": "YEZgnCqG-nX_"
      },
      "source": [
        ""
      ],
      "execution_count": 2,
      "outputs": []
    },
    {
      "cell_type": "markdown",
      "metadata": {
        "id": "BB-m4lm25Xnz"
      },
      "source": [
        "## Loading the data and performing exploratory data analyses (EDA)"
      ]
    },
    {
      "cell_type": "code",
      "metadata": {
        "id": "zWZYD7rT-nYC",
        "outputId": "3b3f2b9c-9247-48c1-e3d5-61137b7aaa30",
        "colab": {
          "base_uri": "https://localhost:8080/"
        }
      },
      "source": [
        "%%time\n",
        "# date_parser = lambda date: pd.to_datetime(date).tz_localize(None)\n",
        "data = pd.read_csv('./Train3Classes.csv', sep=';', usecols=['tweet_text', 'sentiment'])\n",
        "                #    index_col=['tweet_date']\n",
        "                #    usecols=['tweet_date', 'tweet_text', 'sentiment'],\n",
        "                #    parse_dates=True,\n",
        "                #    date_parser=date_parser)\n",
        "\n",
        "# Sort data\n",
        "# data.sort_index(inplace=True)\n",
        "\n",
        "# Label the target classes\n",
        "data['sentiment'] = data['sentiment'].map({0: 'negative', 1: 'positive', 2: 'neutral'})"
      ],
      "execution_count": 3,
      "outputs": [
        {
          "output_type": "stream",
          "text": [
            "CPU times: user 160 ms, sys: 36.7 ms, total: 197 ms\n",
            "Wall time: 197 ms\n"
          ],
          "name": "stdout"
        }
      ]
    },
    {
      "cell_type": "code",
      "metadata": {
        "id": "OM_i_EFA-nYE",
        "outputId": "778ad4ac-b5c5-42cd-8ec3-3008cec611af",
        "colab": {
          "base_uri": "https://localhost:8080/",
          "height": 204
        }
      },
      "source": [
        "data.head()"
      ],
      "execution_count": 4,
      "outputs": [
        {
          "output_type": "execute_result",
          "data": {
            "text/html": [
              "<div>\n",
              "<style scoped>\n",
              "    .dataframe tbody tr th:only-of-type {\n",
              "        vertical-align: middle;\n",
              "    }\n",
              "\n",
              "    .dataframe tbody tr th {\n",
              "        vertical-align: top;\n",
              "    }\n",
              "\n",
              "    .dataframe thead th {\n",
              "        text-align: right;\n",
              "    }\n",
              "</style>\n",
              "<table border=\"1\" class=\"dataframe\">\n",
              "  <thead>\n",
              "    <tr style=\"text-align: right;\">\n",
              "      <th></th>\n",
              "      <th>tweet_text</th>\n",
              "      <th>sentiment</th>\n",
              "    </tr>\n",
              "  </thead>\n",
              "  <tbody>\n",
              "    <tr>\n",
              "      <th>0</th>\n",
              "      <td>@Laranjito76 A pessoa certa para isso seria o vale e azevedo :)</td>\n",
              "      <td>positive</td>\n",
              "    </tr>\n",
              "    <tr>\n",
              "      <th>1</th>\n",
              "      <td>@behin_d_curtain Para mim, é precisamente o contrário :) Vem a chuva e vem a boa disposição :)</td>\n",
              "      <td>positive</td>\n",
              "    </tr>\n",
              "    <tr>\n",
              "      <th>2</th>\n",
              "      <td>Vou fazer um video hoje... estou pensando em falar um pouco sobre o novo meta do CSGO e sobre a pagina https://t.co/5RjhKnj0oh Alguem tem uma sugestao? Queria falar sobre algo do cenario nacional :D</td>\n",
              "      <td>positive</td>\n",
              "    </tr>\n",
              "    <tr>\n",
              "      <th>3</th>\n",
              "      <td>aaaaaaaa amei tanto essas polaroids, nem sei expressar o quanto eu to apaixonada de vdd✨💖🎈🎉🎊 espero que outras pessoas consigam ganhar também :) https://t.co/pbIp7tRcSE</td>\n",
              "      <td>positive</td>\n",
              "    </tr>\n",
              "    <tr>\n",
              "      <th>4</th>\n",
              "      <td>Valoriza o coração do menininho que vc tem. Ele é diferente. O faça sorrir e ter certeza disso ❤️ — Eu valorizo todo mundo na minha vida, não vai ser diferente com ele :)) https://t.co/5c7wlXQyz9</td>\n",
              "      <td>positive</td>\n",
              "    </tr>\n",
              "  </tbody>\n",
              "</table>\n",
              "</div>"
            ],
            "text/plain": [
              "                                                                                                                                                                                               tweet_text  \\\n",
              "0                                                                                                                                         @Laranjito76 A pessoa certa para isso seria o vale e azevedo :)   \n",
              "1                                                                                                          @behin_d_curtain Para mim, é precisamente o contrário :) Vem a chuva e vem a boa disposição :)   \n",
              "2  Vou fazer um video hoje... estou pensando em falar um pouco sobre o novo meta do CSGO e sobre a pagina https://t.co/5RjhKnj0oh Alguem tem uma sugestao? Queria falar sobre algo do cenario nacional :D   \n",
              "3                                aaaaaaaa amei tanto essas polaroids, nem sei expressar o quanto eu to apaixonada de vdd✨💖🎈🎉🎊 espero que outras pessoas consigam ganhar também :) https://t.co/pbIp7tRcSE   \n",
              "4     Valoriza o coração do menininho que vc tem. Ele é diferente. O faça sorrir e ter certeza disso ❤️ — Eu valorizo todo mundo na minha vida, não vai ser diferente com ele :)) https://t.co/5c7wlXQyz9   \n",
              "\n",
              "  sentiment  \n",
              "0  positive  \n",
              "1  positive  \n",
              "2  positive  \n",
              "3  positive  \n",
              "4  positive  "
            ]
          },
          "metadata": {
            "tags": []
          },
          "execution_count": 4
        }
      ]
    },
    {
      "cell_type": "code",
      "metadata": {
        "id": "lGQzB4-C5Xn7"
      },
      "source": [
        "# # Example\n",
        "# x = \"Reddit Will Now QuarantineÛ_ http://t.co/pkUAMXw6pm #onlinecommunities #reddit #amageddon #freespeech #Business http://t.co/PAWvNJ4sAP\"\n",
        "# # Remove unicode characters\n",
        "# x = x.encode('ascii', 'ignore').decode()\n",
        "# x"
      ],
      "execution_count": 5,
      "outputs": []
    },
    {
      "cell_type": "code",
      "metadata": {
        "id": "dh8BIEiI-nYK",
        "outputId": "515b3a6d-3e29-4020-adbb-168945c2dd1f",
        "colab": {
          "base_uri": "https://localhost:8080/"
        }
      },
      "source": [
        "original_shape = data.shape\n",
        "print(f'This dataset has {data.shape[0]} rows and {data.shape[1]} columns')"
      ],
      "execution_count": 6,
      "outputs": [
        {
          "output_type": "stream",
          "text": [
            "This dataset has 100000 rows and 2 columns\n"
          ],
          "name": "stdout"
        }
      ]
    },
    {
      "cell_type": "code",
      "metadata": {
        "id": "6LY2fFRO-nYN",
        "outputId": "859a86e1-fe62-4f36-b981-a279a3b4e9e1",
        "colab": {
          "base_uri": "https://localhost:8080/"
        }
      },
      "source": [
        "data.info(memory_usage='deep')"
      ],
      "execution_count": 7,
      "outputs": [
        {
          "output_type": "stream",
          "text": [
            "<class 'pandas.core.frame.DataFrame'>\n",
            "RangeIndex: 100000 entries, 0 to 99999\n",
            "Data columns (total 2 columns):\n",
            " #   Column      Non-Null Count   Dtype \n",
            "---  ------      --------------   ----- \n",
            " 0   tweet_text  100000 non-null  object\n",
            " 1   sentiment   100000 non-null  object\n",
            "dtypes: object(2)\n",
            "memory usage: 25.0 MB\n"
          ],
          "name": "stdout"
        }
      ]
    },
    {
      "cell_type": "code",
      "metadata": {
        "id": "KWoIsNii-nYP",
        "outputId": "f5fec167-4256-4fdf-93d0-a35d82adc822",
        "colab": {
          "base_uri": "https://localhost:8080/"
        }
      },
      "source": [
        "data['sentiment'].value_counts(dropna=False)"
      ],
      "execution_count": 8,
      "outputs": [
        {
          "output_type": "execute_result",
          "data": {
            "text/plain": [
              "positive    33334\n",
              "negative    33333\n",
              "neutral     33333\n",
              "Name: sentiment, dtype: int64"
            ]
          },
          "metadata": {
            "tags": []
          },
          "execution_count": 8
        }
      ]
    },
    {
      "cell_type": "code",
      "metadata": {
        "id": "7N15dGbX5XoM",
        "outputId": "a574c98c-6c80-4306-94b9-c10f5b4da44d",
        "colab": {
          "base_uri": "https://localhost:8080/",
          "height": 293
        }
      },
      "source": [
        "# Plot the sentimen distribution\n",
        "sns.set()\n",
        "sns.countplot(x='sentiment', data=data)\n",
        "plt.title('Sentiment Distribution', fontsize=14)\n",
        "plt.tight_layout();"
      ],
      "execution_count": 9,
      "outputs": [
        {
          "output_type": "display_data",
          "data": {
            "image/png": "[encoded data removed]",
            "text/plain": [
              "<Figure size 432x288 with 1 Axes>"
            ]
          },
          "metadata": {
            "tags": []
          }
        }
      ]
    },
    {
      "cell_type": "code",
      "metadata": {
        "id": "waFFOk1E-nYS"
      },
      "source": [
        "data['word_count'] = data['tweet_text'].apply(lambda row: len(row.strip().split()))"
      ],
      "execution_count": 10,
      "outputs": []
    },
    {
      "cell_type": "code",
      "metadata": {
        "id": "W4NxR-qG-nYU",
        "outputId": "aebf57d3-c73e-4e4e-b410-d7ce65144906",
        "colab": {
          "base_uri": "https://localhost:8080/",
          "height": 221
        }
      },
      "source": [
        "data.head(5)"
      ],
      "execution_count": 11,
      "outputs": [
        {
          "output_type": "execute_result",
          "data": {
            "text/html": [
              "<div>\n",
              "<style scoped>\n",
              "    .dataframe tbody tr th:only-of-type {\n",
              "        vertical-align: middle;\n",
              "    }\n",
              "\n",
              "    .dataframe tbody tr th {\n",
              "        vertical-align: top;\n",
              "    }\n",
              "\n",
              "    .dataframe thead th {\n",
              "        text-align: right;\n",
              "    }\n",
              "</style>\n",
              "<table border=\"1\" class=\"dataframe\">\n",
              "  <thead>\n",
              "    <tr style=\"text-align: right;\">\n",
              "      <th></th>\n",
              "      <th>tweet_text</th>\n",
              "      <th>sentiment</th>\n",
              "      <th>word_count</th>\n",
              "    </tr>\n",
              "  </thead>\n",
              "  <tbody>\n",
              "    <tr>\n",
              "      <th>0</th>\n",
              "      <td>@Laranjito76 A pessoa certa para isso seria o vale e azevedo :)</td>\n",
              "      <td>positive</td>\n",
              "      <td>12</td>\n",
              "    </tr>\n",
              "    <tr>\n",
              "      <th>1</th>\n",
              "      <td>@behin_d_curtain Para mim, é precisamente o contrário :) Vem a chuva e vem a boa disposição :)</td>\n",
              "      <td>positive</td>\n",
              "      <td>17</td>\n",
              "    </tr>\n",
              "    <tr>\n",
              "      <th>2</th>\n",
              "      <td>Vou fazer um video hoje... estou pensando em falar um pouco sobre o novo meta do CSGO e sobre a pagina https://t.co/5RjhKnj0oh Alguem tem uma sugestao? Queria falar sobre algo do cenario nacional :D</td>\n",
              "      <td>positive</td>\n",
              "      <td>34</td>\n",
              "    </tr>\n",
              "    <tr>\n",
              "      <th>3</th>\n",
              "      <td>aaaaaaaa amei tanto essas polaroids, nem sei expressar o quanto eu to apaixonada de vdd✨💖🎈🎉🎊 espero que outras pessoas consigam ganhar também :) https://t.co/pbIp7tRcSE</td>\n",
              "      <td>positive</td>\n",
              "      <td>24</td>\n",
              "    </tr>\n",
              "    <tr>\n",
              "      <th>4</th>\n",
              "      <td>Valoriza o coração do menininho que vc tem. Ele é diferente. O faça sorrir e ter certeza disso ❤️ — Eu valorizo todo mundo na minha vida, não vai ser diferente com ele :)) https://t.co/5c7wlXQyz9</td>\n",
              "      <td>positive</td>\n",
              "      <td>35</td>\n",
              "    </tr>\n",
              "  </tbody>\n",
              "</table>\n",
              "</div>"
            ],
            "text/plain": [
              "                                                                                                                                                                                               tweet_text  \\\n",
              "0                                                                                                                                         @Laranjito76 A pessoa certa para isso seria o vale e azevedo :)   \n",
              "1                                                                                                          @behin_d_curtain Para mim, é precisamente o contrário :) Vem a chuva e vem a boa disposição :)   \n",
              "2  Vou fazer um video hoje... estou pensando em falar um pouco sobre o novo meta do CSGO e sobre a pagina https://t.co/5RjhKnj0oh Alguem tem uma sugestao? Queria falar sobre algo do cenario nacional :D   \n",
              "3                                aaaaaaaa amei tanto essas polaroids, nem sei expressar o quanto eu to apaixonada de vdd✨💖🎈🎉🎊 espero que outras pessoas consigam ganhar também :) https://t.co/pbIp7tRcSE   \n",
              "4     Valoriza o coração do menininho que vc tem. Ele é diferente. O faça sorrir e ter certeza disso ❤️ — Eu valorizo todo mundo na minha vida, não vai ser diferente com ele :)) https://t.co/5c7wlXQyz9   \n",
              "\n",
              "  sentiment  word_count  \n",
              "0  positive          12  \n",
              "1  positive          17  \n",
              "2  positive          34  \n",
              "3  positive          24  \n",
              "4  positive          35  "
            ]
          },
          "metadata": {
            "tags": []
          },
          "execution_count": 11
        }
      ]
    },
    {
      "cell_type": "code",
      "metadata": {
        "id": "NRoq-V9Z-nYX"
      },
      "source": [
        "# data.sort_values(by='word_count', ascending=False).head(7)"
      ],
      "execution_count": 12,
      "outputs": []
    },
    {
      "cell_type": "code",
      "metadata": {
        "id": "4uh_6xh4-nYZ"
      },
      "source": [
        "\n",
        "# Load SpaCY Portuguese model\n",
        "nlp = Portuguese() \n",
        "# or spacy.load('pt_core_news_sm'), spacy.load('pt_core_news_md'), spacy.load('pt_core_news_lg')\n",
        "# nlp = spacy.load('pt_core_news_md')\n",
        "\n",
        "# Regular expressions\n",
        "remove_urls     = re.compile(r'https?://\\S+|www\\.\\S+')\n",
        "remove_hashtags = re.compile(r'#')\n",
        "remove_emails   = re.compile(r'\\S+@\\S+')\n",
        "remove_rt       = re.compile(r'^RT[\\s]+')\n",
        "remove_numbers  = re.compile(r'\\d+')\n",
        "\n",
        "### Stop words\n",
        "# Load Kaggle stop words\n",
        "with open('./portugueseST.txt', 'r', encoding='latin-1') as words:\n",
        "    kaggle_stop_words = [word.strip() for word in words]\n",
        "\n",
        "# Load NLTK stop words\n",
        "nltk_stop_words  = stopwords.words('portuguese')\n",
        "\n",
        "# Load SpaCy stop words\n",
        "spacy_stop_words = list(spacy.lang.pt.STOP_WORDS)\n",
        "\n",
        "# Custom stop words\n",
        "custom_stop_words = ['pra', 'to', 'vc', 'tá', 'pq', 'tô', 'ta', 'mt', 'pro',\n",
        "                     'né', 'eh', 'tbm', 'ja', 'ah', 'vcs', 'hj', 'so',  'mto',\n",
        "                     'agr', 'oq', 'la', 'tou', 'td', 'voce', 'ne', 'obg', 'tb']\n",
        "                     # '\\u200d', '\\u200b', ] # 'oh',\n",
        "\n",
        "\n",
        "### 'q', 'g', 'n', 'p', 'r', 'c', 'ª', 'i', '🏻', 'd', 'x', 'h', 'm', 'u', 'k', 's', 'º', 'b'\n",
        "\n",
        "# All unique stop words\n",
        "portuguese_stop_words = []\n",
        "portuguese_stop_words.extend(kaggle_stop_words)\n",
        "portuguese_stop_words.extend(nltk_stop_words)\n",
        "portuguese_stop_words.extend(spacy_stop_words)\n",
        "portuguese_stop_words.extend(custom_stop_words)\n",
        "no_accented_stop_words = [unidecode(word) for word in portuguese_stop_words]\n",
        "portuguese_stop_words.extend(no_accented_stop_words)\n",
        "portuguese_stop_words.sort()\n",
        "portuguese_stop_words = set(portuguese_stop_words)\n",
        "\n",
        "\n",
        "# Load punctuation\n",
        "# punctuation = string.punctuation.replace('@', '') + '-' + '—' + '‘' + '’' + '“' + '”' + \"'\" + '•'\n",
        "punctuation = string.punctuation # .replace('@', '') + '-' + '—' + '‘' + '’' + '“' + '”' + \"'\" + '•'\n",
        "\n",
        "# Instantiate TweetTokenizer\n",
        "tt = TweetTokenizer(preserve_case=False,    # lowercasing\n",
        "                    strip_handles=True,     # remove handles\n",
        "                    reduce_len=True)     \n",
        "\n",
        "def preprocess_text(text):\n",
        "\n",
        "    # Parse HTML\n",
        "    text = BeautifulSoup(text, \"html.parser\").get_text()\n",
        "\n",
        "    # # Apply regex\n",
        "    text = remove_urls.sub('', text)        # remove urls\n",
        "    text = remove_hashtags.sub('', text)    # remove hashtags    \n",
        "    text = remove_emails.sub('', text)      # remove e-mails\n",
        "    text = remove_rt.sub('', text)          # remove RT\n",
        "    text = remove_numbers.sub('', text)     # remove numbers \n",
        "\n",
        "    # text = text.encode('ascii', 'ignore').decode()\n",
        "\n",
        "    # Remove punctuation\n",
        "    # text = text.translate(text.maketrans('', '', punctuation)).strip()\n",
        "    \n",
        "    # Tokenize, lowercase, remove handles\n",
        "    tokens = tt.tokenize(text)\n",
        "\n",
        "    # Remove punctuation\n",
        "    tokens = [word for word in tokens if word not in punctuation]\n",
        "\n",
        "    # Transform accented words\n",
        "    tokens = [unidecode(word) if word.isalpha() else word for word in tokens]\n",
        "\n",
        "    # Remove unicode characters\n",
        "    tokens = [word.encode('ascii', 'ignore').decode() for word in tokens]\n",
        "    \n",
        "    # Remove stop words    \n",
        "    tokens = [word for word in tokens if word not in portuguese_stop_words]\n",
        "\n",
        "    # Remove no alphabetical and single chars\n",
        "    tokens = [word for word in tokens if word.isalpha() and len(word) > 1]\n",
        "\n",
        "    # # NLTK SnowBall Portuguese stemmer\n",
        "    # st = PortugueseStemmer()\n",
        "    # tokens = [st.stem(word) for word in tokens]\n",
        "\n",
        "    # NLTK RSLPStemmer Portuguese stemmer\n",
        "    # st = RSLPStemmer()\n",
        "    # tokens = [st.stem(word) for word in tokens]\n",
        "    \n",
        "    ## SpaCy\n",
        "    # Normalize\n",
        "    # text = ' '.join(tokens)\n",
        "    # doc = nlp(text)\n",
        "    \n",
        "    # tokens = [token.norm_ for token in doc]\n",
        "\n",
        "    # Lemmatization\n",
        "    # text = ' '.join(tokens)\n",
        "    # doc = nlp(text)\n",
        "    \n",
        "    # tokens = [token.lemma_ for token in doc if token.lemma_ not in portuguese_stop_words]  \n",
        "\n",
        "    # # # Remove punctuation\n",
        "    # text = ' '.join(str(word) for word in tokens)\n",
        "    # # text = ' '.join(tokens)\n",
        "    # text = text.translate(text.maketrans('', '', punctuation))  \n",
        "\n",
        "    # return ' '.join(word.strip() for word in tokens)\n",
        "    # return ' '.join(str(word) for word in tokens)    \n",
        "    # return text\n",
        "    return ' '.join(tokens)"
      ],
      "execution_count": 13,
      "outputs": []
    },
    {
      "cell_type": "code",
      "metadata": {
        "id": "xQ5dIcZK5XoY",
        "outputId": "b7151610-1582-4884-eecd-06d3fb53e266",
        "colab": {
          "base_uri": "https://localhost:8080/",
          "height": 682
        }
      },
      "source": [
        "data.sort_values(by='word_count', ascending=False).head(10)"
      ],
      "execution_count": 14,
      "outputs": [
        {
          "output_type": "execute_result",
          "data": {
            "text/html": [
              "<div>\n",
              "<style scoped>\n",
              "    .dataframe tbody tr th:only-of-type {\n",
              "        vertical-align: middle;\n",
              "    }\n",
              "\n",
              "    .dataframe tbody tr th {\n",
              "        vertical-align: top;\n",
              "    }\n",
              "\n",
              "    .dataframe thead th {\n",
              "        text-align: right;\n",
              "    }\n",
              "</style>\n",
              "<table border=\"1\" class=\"dataframe\">\n",
              "  <thead>\n",
              "    <tr style=\"text-align: right;\">\n",
              "      <th></th>\n",
              "      <th>tweet_text</th>\n",
              "      <th>sentiment</th>\n",
              "      <th>word_count</th>\n",
              "    </tr>\n",
              "  </thead>\n",
              "  <tbody>\n",
              "    <tr>\n",
              "      <th>27458</th>\n",
              "      <td>@fp3po @etsblade @einsiderbr @MPBeSports @Memescblol @opkinoteam @AcerdoBrasil @windowsbr @blackdragonsBR @KaBuMESports @VivoKeyd @havanliberty @Akasabrasil @giganterichard @mawthg @_AiikaB @surskity @RedemptionPOA @INTZeSports @cariocAlol @dionrraylol @maisesportsbr @ESPNEsportsBR @VersusIGNBrasil @esportv @vaggasbr @gstv1lol @GruntarTV @R6BRatualizado @ZevaOficial @lunacydiego @MELAOtreze Opa @fp3po! QUE DIFÍCIL! Ta permitido levar pro lado dos animes? (Não vejo tantas séries ): )😭 Se tiver... - One Piece - Boku no Hero Academia - Hunter x Hunter - Shokugeki no Soma - Shingeki no Kyojin Alô amores, @_minorith @julyangelll @cprandoni @starswithnames</td>\n",
              "      <td>positive</td>\n",
              "      <td>77</td>\n",
              "    </tr>\n",
              "    <tr>\n",
              "      <th>27716</th>\n",
              "      <td>Te amo Te amo Te amo Te amo 💕💕 Te amo Te amo Te amo Te amo Te amo Te amo Te amo Te amo Te amo Te amo Te amo Te amo Te amo Te amo Te amo Te amo Te amo Te amo Te amo Te amo Te amo Te amo Te amo Te amo Te amo @_HxrryCreature :) Las únicas fotos en las que realmente me sentí feliz https://t.co/pKdpaueMA2</td>\n",
              "      <td>positive</td>\n",
              "      <td>72</td>\n",
              "    </tr>\n",
              "    <tr>\n",
              "      <th>26527</th>\n",
              "      <td>@MiseryCop @GameComCiencia @TioChuckz @thiescayt @JogandoJuntas @AthenaGamerKJ @deeego @ferxnomath @shuberry @Drugue @sailorlunna @LizaMancuso @Confusiany @EricaRockCity @filipebaldin @kazzulo @cherlopes @jehssuda @SilasC92 @ramonminero @Kapiwara @forjadomestre @_psicopomp0 @KorraBook4 @leandropug @NikasPlay @_Ybl @NieleAElfa @VamosdeTres @gabrielli_v @gkyoji @NandaPlay @drikagamerbr @_kashmiir @KizumbbaPlay @Milhafre_Tuga @sandrigorn @Pesterenan @WooDInTheMachin @Sson7 @Leirnor @gsbressan @BrazilianBunny @salsatheone @rafaelschebuk 1. The Sopranos 2. True Detective 3. Vikings 4. Dexter 5. Mr Robot Prison Break e Heroes também :D Também não posso esquecer que deuses são reais..................</td>\n",
              "      <td>positive</td>\n",
              "      <td>72</td>\n",
              "    </tr>\n",
              "    <tr>\n",
              "      <th>64184</th>\n",
              "      <td>@gabecrismar Sim, porém o iPhone 8 só tem d 64 a 256gb e a diferença é d mil reais entre eles, já o 7plus tem o d 128gb q seria ideal p mim, além dá câmera do 7plus ser mt top, principalmente naquela função do foco, q eu acho mara. E tem tb o designer e o tamanho e eu amo o tamanho do plus :(</td>\n",
              "      <td>negative</td>\n",
              "      <td>66</td>\n",
              "    </tr>\n",
              "    <tr>\n",
              "      <th>37742</th>\n",
              "      <td>@KaderZera @cyb3rzera @MasterKingR6 @oretalha @canalzigueira @neskwga @JULIOAKAJULIO1 @Moska1m @NovysR6 @sensifps @xSexyCake @paulopsk1 @UbisoftBrasil @rainbow6br Mano, foi um dos motivos pra eu estar abandonando o game. Na ultima ss eu so fiz a md10 e parei, cheater por cima de cheater. Voltei a jogar cs mesmo, prefiro pegar um cheater em 1 partida a cada 10 do que 7/10 :( e a ubisoft nao faz nada</td>\n",
              "      <td>negative</td>\n",
              "      <td>65</td>\n",
              "    </tr>\n",
              "    <tr>\n",
              "      <th>98025</th>\n",
              "      <td>@MOBILIDADECOTIA @catracalivre @FaaAugusto @eduardopaulinos @sardinhaexpress @COMMU_Oficial @fefadaniel @sindpd @mundosindical @lauraabcarvalho @coisasdogeek @GeorgMarques @jovemnerd @RitaLisauskas @blogdosakamoto @zerotoledo @convergencia @Gledson_MA @_thalesnogueira @Cecillia @PatoCorporation @hamenteslivres @cartamaior @IvanValente @jserafim627 @revistavoto @chutandoaescada @revistaforum @AndreVicente9 @ODamazio @Alessan24907664 @g1 ⏫⏬ Olha! Tem a #inflação de rico! Até p/ele 💸 ! 📲 https://t.co/2POKvkUMbo 💻 #emprego #trabalho #desemprego #previdencia #INSS #dinheiro #salario #economia #poupanca #alta #reajuste #preço #inflação #Eleicoes2018 sem #grana https://t.co/DkcffQRxtI</td>\n",
              "      <td>neutral</td>\n",
              "      <td>63</td>\n",
              "    </tr>\n",
              "    <tr>\n",
              "      <th>47782</th>\n",
              "      <td>eu amo muito a hyejoo sério é incontrolável o que eu sinto por ela, a extensão de amor que ela me faz sentir é algo que eu fico pasma só de sentir e eu amo ela mais que tudo neste universo. ela é minha paz, meu lugar de aconchego e eu não sei o que faria sem uma vida sem ela :( https://t.co/CUhBkFo6wa</td>\n",
              "      <td>negative</td>\n",
              "      <td>63</td>\n",
              "    </tr>\n",
              "    <tr>\n",
              "      <th>21462</th>\n",
              "      <td>Hoje em dia, se você não faz algo que a pessoa quer ela já de mimimi, só porque aos olhos DELA você não agradou ... tenho vontade e de matar pessoas assim, a gente faz de um T U D O . Pra no final receber isso . Espero que vc vá tomar no olho do seu cu :) arrombada. Te odeio. [;</td>\n",
              "      <td>positive</td>\n",
              "      <td>63</td>\n",
              "    </tr>\n",
              "    <tr>\n",
              "      <th>57074</th>\n",
              "      <td>@breatrhin @Bkstg o vinil eu nunca achei tb não mana nem sem ser pelo bkstg, só o cd que um amigo meu q tem uma irmã que mora no japão que me arruma e tals eu estava até vendendo pela lojinha que tenho no ig, ele tem encarte e tudo, sabe né aquele que foi feito no japão? então, mas vinil não :(</td>\n",
              "      <td>negative</td>\n",
              "      <td>63</td>\n",
              "    </tr>\n",
              "    <tr>\n",
              "      <th>57324</th>\n",
              "      <td>a única coisa triste do fim do ano eh que cada vez que ele se aproxima se aproxima tbm o fim do meu Wanna One 💔😭 e isso é demais para eu siquer pensar em lidar :( isso é a unica coisa que me faz abrir mão de tudo isso e desejar que demorasse mais o fim de ano pra chegar aaaa</td>\n",
              "      <td>negative</td>\n",
              "      <td>62</td>\n",
              "    </tr>\n",
              "  </tbody>\n",
              "</table>\n",
              "</div>"
            ],
            "text/plain": [
              "                                                                                                                                                                                                                                                                                                                                                                                                                                                                                                                                                                                                                                                                                                                           tweet_text  \\\n",
              "27458                                              @fp3po @etsblade @einsiderbr @MPBeSports @Memescblol @opkinoteam @AcerdoBrasil @windowsbr @blackdragonsBR @KaBuMESports @VivoKeyd @havanliberty @Akasabrasil @giganterichard @mawthg @_AiikaB @surskity @RedemptionPOA @INTZeSports @cariocAlol @dionrraylol @maisesportsbr @ESPNEsportsBR @VersusIGNBrasil @esportv @vaggasbr @gstv1lol @GruntarTV @R6BRatualizado @ZevaOficial @lunacydiego @MELAOtreze Opa @fp3po! QUE DIFÍCIL! Ta permitido levar pro lado dos animes? (Não vejo tantas séries ): )😭 Se tiver... - One Piece - Boku no Hero Academia - Hunter x Hunter - Shokugeki no Soma - Shingeki no Kyojin Alô amores, @_minorith @julyangelll @cprandoni @starswithnames   \n",
              "27716                                                                                                                                                                                                                                                                                                                                                                                                                   Te amo Te amo Te amo Te amo 💕💕 Te amo Te amo Te amo Te amo Te amo Te amo Te amo Te amo Te amo Te amo Te amo Te amo Te amo Te amo Te amo Te amo Te amo Te amo Te amo Te amo Te amo Te amo Te amo Te amo Te amo @_HxrryCreature :) Las únicas fotos en las que realmente me sentí feliz https://t.co/pKdpaueMA2   \n",
              "26527  @MiseryCop @GameComCiencia @TioChuckz @thiescayt @JogandoJuntas @AthenaGamerKJ @deeego @ferxnomath @shuberry @Drugue @sailorlunna @LizaMancuso @Confusiany @EricaRockCity @filipebaldin @kazzulo @cherlopes @jehssuda @SilasC92 @ramonminero @Kapiwara @forjadomestre @_psicopomp0 @KorraBook4 @leandropug @NikasPlay @_Ybl @NieleAElfa @VamosdeTres @gabrielli_v @gkyoji @NandaPlay @drikagamerbr @_kashmiir @KizumbbaPlay @Milhafre_Tuga @sandrigorn @Pesterenan @WooDInTheMachin @Sson7 @Leirnor @gsbressan @BrazilianBunny @salsatheone @rafaelschebuk 1. The Sopranos 2. True Detective 3. Vikings 4. Dexter 5. Mr Robot Prison Break e Heroes também :D Também não posso esquecer que deuses são reais..................   \n",
              "64184                                                                                                                                                                                                                                                                                                                                                                                                                           @gabecrismar Sim, porém o iPhone 8 só tem d 64 a 256gb e a diferença é d mil reais entre eles, já o 7plus tem o d 128gb q seria ideal p mim, além dá câmera do 7plus ser mt top, principalmente naquela função do foco, q eu acho mara. E tem tb o designer e o tamanho e eu amo o tamanho do plus :(   \n",
              "37742                                                                                                                                                                                                                                                                                                               @KaderZera @cyb3rzera @MasterKingR6 @oretalha @canalzigueira @neskwga @JULIOAKAJULIO1 @Moska1m @NovysR6 @sensifps @xSexyCake @paulopsk1 @UbisoftBrasil @rainbow6br Mano, foi um dos motivos pra eu estar abandonando o game. Na ultima ss eu so fiz a md10 e parei, cheater por cima de cheater. Voltei a jogar cs mesmo, prefiro pegar um cheater em 1 partida a cada 10 do que 7/10 :( e a ubisoft nao faz nada   \n",
              "98025                  @MOBILIDADECOTIA @catracalivre @FaaAugusto @eduardopaulinos @sardinhaexpress @COMMU_Oficial @fefadaniel @sindpd @mundosindical @lauraabcarvalho @coisasdogeek @GeorgMarques @jovemnerd @RitaLisauskas @blogdosakamoto @zerotoledo @convergencia @Gledson_MA @_thalesnogueira @Cecillia @PatoCorporation @hamenteslivres @cartamaior @IvanValente @jserafim627 @revistavoto @chutandoaescada @revistaforum @AndreVicente9 @ODamazio @Alessan24907664 @g1 ⏫⏬ Olha! Tem a #inflação de rico! Até p/ele 💸 ! 📲 https://t.co/2POKvkUMbo 💻 #emprego #trabalho #desemprego #previdencia #INSS #dinheiro #salario #economia #poupanca #alta #reajuste #preço #inflação #Eleicoes2018 sem #grana https://t.co/DkcffQRxtI   \n",
              "47782                                                                                                                                                                                                                                                                                                                                                                                                                  eu amo muito a hyejoo sério é incontrolável o que eu sinto por ela, a extensão de amor que ela me faz sentir é algo que eu fico pasma só de sentir e eu amo ela mais que tudo neste universo. ela é minha paz, meu lugar de aconchego e eu não sei o que faria sem uma vida sem ela :( https://t.co/CUhBkFo6wa   \n",
              "21462                                                                                                                                                                                                                                                                                                                                                                                                                                         Hoje em dia, se você não faz algo que a pessoa quer ela já de mimimi, só porque aos olhos DELA você não agradou ... tenho vontade e de matar pessoas assim, a gente faz de um T U D O . Pra no final receber isso . Espero que vc vá tomar no olho do seu cu :) arrombada. Te odeio. [;   \n",
              "57074                                                                                                                                                                                                                                                                                                                                                                                                                         @breatrhin @Bkstg o vinil eu nunca achei tb não mana nem sem ser pelo bkstg, só o cd que um amigo meu q tem uma irmã que mora no japão que me arruma e tals eu estava até vendendo pela lojinha que tenho no ig, ele tem encarte e tudo, sabe né aquele que foi feito no japão? então, mas vinil não :(   \n",
              "57324                                                                                                                                                                                                                                                                                                                                                                                                                                             a única coisa triste do fim do ano eh que cada vez que ele se aproxima se aproxima tbm o fim do meu Wanna One 💔😭 e isso é demais para eu siquer pensar em lidar :( isso é a unica coisa que me faz abrir mão de tudo isso e desejar que demorasse mais o fim de ano pra chegar aaaa   \n",
              "\n",
              "      sentiment  word_count  \n",
              "27458  positive          77  \n",
              "27716  positive          72  \n",
              "26527  positive          72  \n",
              "64184  negative          66  \n",
              "37742  negative          65  \n",
              "98025   neutral          63  \n",
              "47782  negative          63  \n",
              "21462  positive          63  \n",
              "57074  negative          63  \n",
              "57324  negative          62  "
            ]
          },
          "metadata": {
            "tags": []
          },
          "execution_count": 14
        }
      ]
    },
    {
      "cell_type": "code",
      "metadata": {
        "id": "fg_u52jw5Xoa",
        "outputId": "673658d8-4b29-4000-e9eb-c854a9c3245c",
        "colab": {
          "base_uri": "https://localhost:8080/"
        }
      },
      "source": [
        "%%time\n",
        "print(\n",
        "    preprocess_text(data.loc[27458, 'tweet_text']),\n",
        "    preprocess_text(data.loc[27716, 'tweet_text']),\n",
        "    preprocess_text(data.loc[26527, 'tweet_text']),\n",
        "    preprocess_text(data.loc[64184, 'tweet_text']),\n",
        "    preprocess_text(data.loc[37742, 'tweet_text']),\n",
        "    preprocess_text(data.loc[98025, 'tweet_text']),\n",
        "    preprocess_text(data.loc[47782, 'tweet_text']),\n",
        "    preprocess_text(data.loc[21462, 'tweet_text']),\n",
        "    preprocess_text(data.loc[57074, 'tweet_text']),\n",
        "    preprocess_text(data.loc[57324, 'tweet_text']),\n",
        "    \n",
        "    sep='\\n\\n',\n",
        ")"
      ],
      "execution_count": 15,
      "outputs": [
        {
          "output_type": "stream",
          "text": [
            "opa dificil permitido levar animes vejo tantas series one piece boku hero academia hunter hunter shokugeki soma shingeki kyojin alo amores\n",
            "\n",
            "amo amo amo amo amo amo amo amo amo amo amo amo amo amo amo amo amo amo amo amo amo amo amo amo amo amo amo amo amo las unicas fotos en las realmente senti feliz\n",
            "\n",
            "the sopranos true detective vikings dexter mr robot prison break heroes esquecer deuses reais\n",
            "\n",
            "iphone gb diferenca reais plus gb ideal mim camera plus top principalmente funcao foco acho mara designer tamanho amo tamanho plus\n",
            "\n",
            "mano motivos abandonando game ultima ss fiz md parei cheater cheater voltei jogar cs prefiro cheater partida ubisoft\n",
            "\n",
            "olha inflacao rico emprego desemprego previdencia inss dinheiro salario economia poupanca alta reajuste preco inflacao eleicoes grana\n",
            "\n",
            "amo hyejoo serio incontrolavel sinto extensao amor sentir fico pasma sentir amo universo paz aconchego faria vida\n",
            "\n",
            "pessoa mimimi olhos agradou vontade matar pessoas gente receber espero va tomar olho cu arrombada odeio\n",
            "\n",
            "vinil achei mana bkstg cd amigo irma mora japao arruma tals vendendo lojinha ig encarte feito japao vinil\n",
            "\n",
            "unica triste aproxima aproxima wanna one siquer pensar lidar unica abrir mao desejar demorasse chegar aaa\n",
            "CPU times: user 7.63 ms, sys: 1.21 ms, total: 8.84 ms\n",
            "Wall time: 9.23 ms\n"
          ],
          "name": "stdout"
        }
      ]
    },
    {
      "cell_type": "code",
      "metadata": {
        "id": "JfyCCfUo-nYl"
      },
      "source": [
        "# %%time\n",
        "# print(\n",
        "#     preprocess(data.loc['2018-09-27 22:07:09', 'tweet_text']),\n",
        "#     preprocess(data.loc['2018-09-27 23:05:00', 'tweet_text']),\n",
        "#     preprocess(data.loc['2018-09-27 21:51:37', 'tweet_text']),\n",
        "#     preprocess(data.loc['2018-09-30 04:00:37', 'tweet_text']),\n",
        "#     preprocess(data.loc['2018-10-08 12:40:35', 'tweet_text'][1]),\n",
        "#     preprocess(data.loc['2018-10-01 15:10:56', 'tweet_text']),\n",
        "#     preprocess(data.loc['2018-08-24 01:40:10', 'tweet_text']),\n",
        "#     preprocess(data.loc['2018-10-01 14:14:25', 'tweet_text']),\n",
        "#     preprocess(data.loc['2018-10-02 03:30:14', 'tweet_text']),\n",
        "#     preprocess(data.loc['2018-09-04 20:20:40', 'tweet_text']),\n",
        "\n",
        "#     sep='\\n\\n',\n",
        "# )\n"
      ],
      "execution_count": 16,
      "outputs": []
    },
    {
      "cell_type": "code",
      "metadata": {
        "id": "tvxt6XZB-nYo",
        "outputId": "46f7db70-f6b4-4534-cbf6-baa94193b241",
        "colab": {
          "base_uri": "https://localhost:8080/"
        }
      },
      "source": [
        "%%time\n",
        "# data['text'] = data['tweet_text'].apply(preprocess_text)\n",
        "data['text'] = data['tweet_text'].apply(preprocess_text)"
      ],
      "execution_count": 17,
      "outputs": [
        {
          "output_type": "stream",
          "text": [
            "CPU times: user 16.2 s, sys: 291 ms, total: 16.5 s\n",
            "Wall time: 16.3 s\n"
          ],
          "name": "stdout"
        }
      ]
    },
    {
      "cell_type": "code",
      "metadata": {
        "id": "_JfMMKq6-nYq"
      },
      "source": [
        "data['word_count'] = data['text'].apply(lambda row: len(row.strip().split()))"
      ],
      "execution_count": 18,
      "outputs": []
    },
    {
      "cell_type": "code",
      "metadata": {
        "id": "BpF-JXXx-nYs",
        "outputId": "dc089b8c-45c0-497a-e3b8-3805259d5b84",
        "colab": {
          "base_uri": "https://localhost:8080/",
          "height": 255
        }
      },
      "source": [
        "data.head()"
      ],
      "execution_count": 19,
      "outputs": [
        {
          "output_type": "execute_result",
          "data": {
            "text/html": [
              "<div>\n",
              "<style scoped>\n",
              "    .dataframe tbody tr th:only-of-type {\n",
              "        vertical-align: middle;\n",
              "    }\n",
              "\n",
              "    .dataframe tbody tr th {\n",
              "        vertical-align: top;\n",
              "    }\n",
              "\n",
              "    .dataframe thead th {\n",
              "        text-align: right;\n",
              "    }\n",
              "</style>\n",
              "<table border=\"1\" class=\"dataframe\">\n",
              "  <thead>\n",
              "    <tr style=\"text-align: right;\">\n",
              "      <th></th>\n",
              "      <th>tweet_text</th>\n",
              "      <th>sentiment</th>\n",
              "      <th>word_count</th>\n",
              "      <th>text</th>\n",
              "    </tr>\n",
              "  </thead>\n",
              "  <tbody>\n",
              "    <tr>\n",
              "      <th>0</th>\n",
              "      <td>@Laranjito76 A pessoa certa para isso seria o vale e azevedo :)</td>\n",
              "      <td>positive</td>\n",
              "      <td>4</td>\n",
              "      <td>pessoa certa vale azevedo</td>\n",
              "    </tr>\n",
              "    <tr>\n",
              "      <th>1</th>\n",
              "      <td>@behin_d_curtain Para mim, é precisamente o contrário :) Vem a chuva e vem a boa disposição :)</td>\n",
              "      <td>positive</td>\n",
              "      <td>5</td>\n",
              "      <td>mim precisamente contrario chuva disposicao</td>\n",
              "    </tr>\n",
              "    <tr>\n",
              "      <th>2</th>\n",
              "      <td>Vou fazer um video hoje... estou pensando em falar um pouco sobre o novo meta do CSGO e sobre a pagina https://t.co/5RjhKnj0oh Alguem tem uma sugestao? Queria falar sobre algo do cenario nacional :D</td>\n",
              "      <td>positive</td>\n",
              "      <td>13</td>\n",
              "      <td>vou video pensando falar meta csgo pagina alguem sugestao queria falar cenario nacional</td>\n",
              "    </tr>\n",
              "    <tr>\n",
              "      <th>3</th>\n",
              "      <td>aaaaaaaa amei tanto essas polaroids, nem sei expressar o quanto eu to apaixonada de vdd✨💖🎈🎉🎊 espero que outras pessoas consigam ganhar também :) https://t.co/pbIp7tRcSE</td>\n",
              "      <td>positive</td>\n",
              "      <td>10</td>\n",
              "      <td>aaa amei polaroids expressar apaixonada vdd espero pessoas consigam ganhar</td>\n",
              "    </tr>\n",
              "    <tr>\n",
              "      <th>4</th>\n",
              "      <td>Valoriza o coração do menininho que vc tem. Ele é diferente. O faça sorrir e ter certeza disso ❤️ — Eu valorizo todo mundo na minha vida, não vai ser diferente com ele :)) https://t.co/5c7wlXQyz9</td>\n",
              "      <td>positive</td>\n",
              "      <td>10</td>\n",
              "      <td>valoriza coracao menininho diferente faca sorrir valorizo mundo vida diferente</td>\n",
              "    </tr>\n",
              "  </tbody>\n",
              "</table>\n",
              "</div>"
            ],
            "text/plain": [
              "                                                                                                                                                                                               tweet_text  \\\n",
              "0                                                                                                                                         @Laranjito76 A pessoa certa para isso seria o vale e azevedo :)   \n",
              "1                                                                                                          @behin_d_curtain Para mim, é precisamente o contrário :) Vem a chuva e vem a boa disposição :)   \n",
              "2  Vou fazer um video hoje... estou pensando em falar um pouco sobre o novo meta do CSGO e sobre a pagina https://t.co/5RjhKnj0oh Alguem tem uma sugestao? Queria falar sobre algo do cenario nacional :D   \n",
              "3                                aaaaaaaa amei tanto essas polaroids, nem sei expressar o quanto eu to apaixonada de vdd✨💖🎈🎉🎊 espero que outras pessoas consigam ganhar também :) https://t.co/pbIp7tRcSE   \n",
              "4     Valoriza o coração do menininho que vc tem. Ele é diferente. O faça sorrir e ter certeza disso ❤️ — Eu valorizo todo mundo na minha vida, não vai ser diferente com ele :)) https://t.co/5c7wlXQyz9   \n",
              "\n",
              "  sentiment  word_count  \\\n",
              "0  positive           4   \n",
              "1  positive           5   \n",
              "2  positive          13   \n",
              "3  positive          10   \n",
              "4  positive          10   \n",
              "\n",
              "                                                                                      text  \n",
              "0                                                                pessoa certa vale azevedo  \n",
              "1                                              mim precisamente contrario chuva disposicao  \n",
              "2  vou video pensando falar meta csgo pagina alguem sugestao queria falar cenario nacional  \n",
              "3               aaa amei polaroids expressar apaixonada vdd espero pessoas consigam ganhar  \n",
              "4           valoriza coracao menininho diferente faca sorrir valorizo mundo vida diferente  "
            ]
          },
          "metadata": {
            "tags": []
          },
          "execution_count": 19
        }
      ]
    },
    {
      "cell_type": "code",
      "metadata": {
        "id": "gScFJLyw5Xol"
      },
      "source": [
        "# data.loc[data['text'].str.contains(r'\\scv\\s|\\bcv\\b', regex=True)]"
      ],
      "execution_count": 20,
      "outputs": []
    },
    {
      "cell_type": "code",
      "metadata": {
        "id": "Ak_C4obo5Xon",
        "outputId": "7c8ba42d-d75b-4293-88b5-04fda098325e",
        "colab": {
          "base_uri": "https://localhost:8080/"
        }
      },
      "source": [
        "text = ' '.join(data['text'])\n",
        "freq_dist = nltk.FreqDist(TweetTokenizer().tokenize(text))\n",
        "print(len(freq_dist))\n",
        "print('---\\n')\n",
        "# pprint(freq_dist.most_common(1000), compact=True)\n",
        "pprint(freq_dist.most_common(35), compact=True)"
      ],
      "execution_count": 21,
      "outputs": [
        {
          "output_type": "stream",
          "text": [
            "59715\n",
            "---\n",
            "\n",
            "[('fato', 3862), ('vou', 3587), ('bolsonaro', 3534), ('queria', 3067),\n",
            " ('oportunidade', 2854), ('gente', 2378), ('eleicoes', 2151), ('emprego', 2108),\n",
            " ('triste', 2028), ('amo', 1892), ('brasil', 1860), ('vaga', 1782),\n",
            " ('sp', 1627), ('haddad', 1593), ('vida', 1539), ('melhor', 1530),\n",
            " ('pessoas', 1510), ('noticia', 1421), ('acho', 1390), ('mim', 1365),\n",
            " ('mundo', 1355), ('feliz', 1313), ('amor', 1313), ('casa', 1280),\n",
            " ('kkk', 1238), ('ficar', 1223), ('ciro', 1165), ('semana', 1157),\n",
            " ('turno', 1153), ('alguem', 1125), ('fake', 1123), ('novidade', 1103),\n",
            " ('pt', 1099), ('paulo', 1091), ('deus', 1052)]\n"
          ],
          "name": "stdout"
        }
      ]
    },
    {
      "cell_type": "code",
      "metadata": {
        "id": "ZHZ2_fo15Xop"
      },
      "source": [
        "# print(len(portuguese_stop_words))\n",
        "# print('---\\n')\n",
        "# pprint(sorted(portuguese_stop_words), compact=True)"
      ],
      "execution_count": 22,
      "outputs": []
    },
    {
      "cell_type": "code",
      "metadata": {
        "id": "SC9ALiCX-nYx"
      },
      "source": [
        "# wordcloud = WordCloud(background_color='black',                      \n",
        "#                     #   width=1000,\n",
        "#                     #   height=1000,\n",
        "#                       max_words=5_000,\n",
        "#                     #   collocations=False,\n",
        "#                     #   stopwords={'não', 'eh', 'série', 'temporada', 'oq'},\n",
        "#                       random_state=0).generate_from_frequencies(freq_dist)\n",
        "\n",
        "# fig = plt.figure(figsize=[10, 10])\n",
        "# plt.imshow(wordcloud, interpolation='bilinear')\n",
        "# plt.tight_layout()\n",
        "# plt.axis(\"off\")\n",
        "# plt.show()"
      ],
      "execution_count": 23,
      "outputs": []
    },
    {
      "cell_type": "code",
      "metadata": {
        "id": "xPVzrQ0m-nYz"
      },
      "source": [
        "# data['word_count'] = data['text'].apply(lambda row: len(row.strip().split()))"
      ],
      "execution_count": 24,
      "outputs": []
    },
    {
      "cell_type": "code",
      "metadata": {
        "id": "O2VywWMD5Xow",
        "outputId": "f254cbcb-7b0d-4cf1-edff-ca23f840f3ef",
        "colab": {
          "base_uri": "https://localhost:8080/",
          "height": 49
        }
      },
      "source": [
        "data[data['text'].str.contains(r'\\d+', regex=True)]"
      ],
      "execution_count": 25,
      "outputs": [
        {
          "output_type": "execute_result",
          "data": {
            "text/html": [
              "<div>\n",
              "<style scoped>\n",
              "    .dataframe tbody tr th:only-of-type {\n",
              "        vertical-align: middle;\n",
              "    }\n",
              "\n",
              "    .dataframe tbody tr th {\n",
              "        vertical-align: top;\n",
              "    }\n",
              "\n",
              "    .dataframe thead th {\n",
              "        text-align: right;\n",
              "    }\n",
              "</style>\n",
              "<table border=\"1\" class=\"dataframe\">\n",
              "  <thead>\n",
              "    <tr style=\"text-align: right;\">\n",
              "      <th></th>\n",
              "      <th>tweet_text</th>\n",
              "      <th>sentiment</th>\n",
              "      <th>word_count</th>\n",
              "      <th>text</th>\n",
              "    </tr>\n",
              "  </thead>\n",
              "  <tbody>\n",
              "  </tbody>\n",
              "</table>\n",
              "</div>"
            ],
            "text/plain": [
              "Empty DataFrame\n",
              "Columns: [tweet_text, sentiment, word_count, text]\n",
              "Index: []"
            ]
          },
          "metadata": {
            "tags": []
          },
          "execution_count": 25
        }
      ]
    },
    {
      "cell_type": "markdown",
      "metadata": {
        "id": "30fUuNyc5Xoz"
      },
      "source": [
        "## SpaCy Lemmatization"
      ]
    },
    {
      "cell_type": "code",
      "metadata": {
        "id": "xay2Nj005Xoz"
      },
      "source": [
        "# %%time\n",
        "# # Instatiate Spacy pretrained statistical models for Portuguese\n",
        "# nlp = spacy.load('pt_core_news_sm')\n",
        "# # from spacy.lang.pt import Portuguese\n",
        "# # nlp = Portuguese()\n",
        "\n",
        "# # Lammatization\n",
        "# data['text'] = [' '.join(word.lemma_ for word in nlp(sentence)) for sentence in tqdm(data['text'])]"
      ],
      "execution_count": 26,
      "outputs": []
    },
    {
      "cell_type": "code",
      "metadata": {
        "id": "T8LqYYgT5Xo1"
      },
      "source": [
        "# for sentence in data['text'].sample(10):\n",
        "#     # print(sentence)\n",
        "#     doc = nlp(str(sentence))\n",
        "#     print([word.text for word in doc])\n",
        "#     print([word.pos_ for word in doc])\n",
        "#     print([word.norm_ for word in doc]) # , '---\\n', sep='\\n')\n",
        "#     print(' '.join(word.lemma_ for word in doc), '---\\n', sep='\\n')\n",
        "\n",
        "    "
      ],
      "execution_count": 27,
      "outputs": []
    },
    {
      "cell_type": "code",
      "metadata": {
        "id": "8nBoVeFP5Xo3",
        "outputId": "45e5678b-f500-4d23-b6bc-2a2d2ae7d7b8",
        "colab": {
          "base_uri": "https://localhost:8080/",
          "height": 255
        }
      },
      "source": [
        "data.head()"
      ],
      "execution_count": 28,
      "outputs": [
        {
          "output_type": "execute_result",
          "data": {
            "text/html": [
              "<div>\n",
              "<style scoped>\n",
              "    .dataframe tbody tr th:only-of-type {\n",
              "        vertical-align: middle;\n",
              "    }\n",
              "\n",
              "    .dataframe tbody tr th {\n",
              "        vertical-align: top;\n",
              "    }\n",
              "\n",
              "    .dataframe thead th {\n",
              "        text-align: right;\n",
              "    }\n",
              "</style>\n",
              "<table border=\"1\" class=\"dataframe\">\n",
              "  <thead>\n",
              "    <tr style=\"text-align: right;\">\n",
              "      <th></th>\n",
              "      <th>tweet_text</th>\n",
              "      <th>sentiment</th>\n",
              "      <th>word_count</th>\n",
              "      <th>text</th>\n",
              "    </tr>\n",
              "  </thead>\n",
              "  <tbody>\n",
              "    <tr>\n",
              "      <th>0</th>\n",
              "      <td>@Laranjito76 A pessoa certa para isso seria o vale e azevedo :)</td>\n",
              "      <td>positive</td>\n",
              "      <td>4</td>\n",
              "      <td>pessoa certa vale azevedo</td>\n",
              "    </tr>\n",
              "    <tr>\n",
              "      <th>1</th>\n",
              "      <td>@behin_d_curtain Para mim, é precisamente o contrário :) Vem a chuva e vem a boa disposição :)</td>\n",
              "      <td>positive</td>\n",
              "      <td>5</td>\n",
              "      <td>mim precisamente contrario chuva disposicao</td>\n",
              "    </tr>\n",
              "    <tr>\n",
              "      <th>2</th>\n",
              "      <td>Vou fazer um video hoje... estou pensando em falar um pouco sobre o novo meta do CSGO e sobre a pagina https://t.co/5RjhKnj0oh Alguem tem uma sugestao? Queria falar sobre algo do cenario nacional :D</td>\n",
              "      <td>positive</td>\n",
              "      <td>13</td>\n",
              "      <td>vou video pensando falar meta csgo pagina alguem sugestao queria falar cenario nacional</td>\n",
              "    </tr>\n",
              "    <tr>\n",
              "      <th>3</th>\n",
              "      <td>aaaaaaaa amei tanto essas polaroids, nem sei expressar o quanto eu to apaixonada de vdd✨💖🎈🎉🎊 espero que outras pessoas consigam ganhar também :) https://t.co/pbIp7tRcSE</td>\n",
              "      <td>positive</td>\n",
              "      <td>10</td>\n",
              "      <td>aaa amei polaroids expressar apaixonada vdd espero pessoas consigam ganhar</td>\n",
              "    </tr>\n",
              "    <tr>\n",
              "      <th>4</th>\n",
              "      <td>Valoriza o coração do menininho que vc tem. Ele é diferente. O faça sorrir e ter certeza disso ❤️ — Eu valorizo todo mundo na minha vida, não vai ser diferente com ele :)) https://t.co/5c7wlXQyz9</td>\n",
              "      <td>positive</td>\n",
              "      <td>10</td>\n",
              "      <td>valoriza coracao menininho diferente faca sorrir valorizo mundo vida diferente</td>\n",
              "    </tr>\n",
              "  </tbody>\n",
              "</table>\n",
              "</div>"
            ],
            "text/plain": [
              "                                                                                                                                                                                               tweet_text  \\\n",
              "0                                                                                                                                         @Laranjito76 A pessoa certa para isso seria o vale e azevedo :)   \n",
              "1                                                                                                          @behin_d_curtain Para mim, é precisamente o contrário :) Vem a chuva e vem a boa disposição :)   \n",
              "2  Vou fazer um video hoje... estou pensando em falar um pouco sobre o novo meta do CSGO e sobre a pagina https://t.co/5RjhKnj0oh Alguem tem uma sugestao? Queria falar sobre algo do cenario nacional :D   \n",
              "3                                aaaaaaaa amei tanto essas polaroids, nem sei expressar o quanto eu to apaixonada de vdd✨💖🎈🎉🎊 espero que outras pessoas consigam ganhar também :) https://t.co/pbIp7tRcSE   \n",
              "4     Valoriza o coração do menininho que vc tem. Ele é diferente. O faça sorrir e ter certeza disso ❤️ — Eu valorizo todo mundo na minha vida, não vai ser diferente com ele :)) https://t.co/5c7wlXQyz9   \n",
              "\n",
              "  sentiment  word_count  \\\n",
              "0  positive           4   \n",
              "1  positive           5   \n",
              "2  positive          13   \n",
              "3  positive          10   \n",
              "4  positive          10   \n",
              "\n",
              "                                                                                      text  \n",
              "0                                                                pessoa certa vale azevedo  \n",
              "1                                              mim precisamente contrario chuva disposicao  \n",
              "2  vou video pensando falar meta csgo pagina alguem sugestao queria falar cenario nacional  \n",
              "3               aaa amei polaroids expressar apaixonada vdd espero pessoas consigam ganhar  \n",
              "4           valoriza coracao menininho diferente faca sorrir valorizo mundo vida diferente  "
            ]
          },
          "metadata": {
            "tags": []
          },
          "execution_count": 28
        }
      ]
    },
    {
      "cell_type": "markdown",
      "metadata": {
        "id": "XAZEnqAO5Xo5"
      },
      "source": [
        "## Handling missing data"
      ]
    },
    {
      "cell_type": "code",
      "metadata": {
        "id": "W_UkmD5G-nY1",
        "outputId": "556d99db-1192-400b-a33b-32a7a419b868",
        "colab": {
          "base_uri": "https://localhost:8080/",
          "height": 238
        }
      },
      "source": [
        "print(data.shape, '---', sep='\\n')\n",
        "display(data.loc[data['word_count'] == 0].head())"
      ],
      "execution_count": 29,
      "outputs": [
        {
          "output_type": "stream",
          "text": [
            "(100000, 4)\n",
            "---\n"
          ],
          "name": "stdout"
        },
        {
          "output_type": "display_data",
          "data": {
            "text/html": [
              "<div>\n",
              "<style scoped>\n",
              "    .dataframe tbody tr th:only-of-type {\n",
              "        vertical-align: middle;\n",
              "    }\n",
              "\n",
              "    .dataframe tbody tr th {\n",
              "        vertical-align: top;\n",
              "    }\n",
              "\n",
              "    .dataframe thead th {\n",
              "        text-align: right;\n",
              "    }\n",
              "</style>\n",
              "<table border=\"1\" class=\"dataframe\">\n",
              "  <thead>\n",
              "    <tr style=\"text-align: right;\">\n",
              "      <th></th>\n",
              "      <th>tweet_text</th>\n",
              "      <th>sentiment</th>\n",
              "      <th>word_count</th>\n",
              "      <th>text</th>\n",
              "    </tr>\n",
              "  </thead>\n",
              "  <tbody>\n",
              "    <tr>\n",
              "      <th>47</th>\n",
              "      <td>@claaract_ De nada! :)</td>\n",
              "      <td>positive</td>\n",
              "      <td>0</td>\n",
              "      <td></td>\n",
              "    </tr>\n",
              "    <tr>\n",
              "      <th>58</th>\n",
              "      <td>@WeLovesT3ddy Obrigada!!! :)</td>\n",
              "      <td>positive</td>\n",
              "      <td>0</td>\n",
              "      <td></td>\n",
              "    </tr>\n",
              "    <tr>\n",
              "      <th>62</th>\n",
              "      <td>Está tudo bem :)</td>\n",
              "      <td>positive</td>\n",
              "      <td>0</td>\n",
              "      <td></td>\n",
              "    </tr>\n",
              "    <tr>\n",
              "      <th>75</th>\n",
              "      <td>NÃO FAÇO MAIS QUESTÃO :)</td>\n",
              "      <td>positive</td>\n",
              "      <td>0</td>\n",
              "      <td></td>\n",
              "    </tr>\n",
              "    <tr>\n",
              "      <th>81</th>\n",
              "      <td>@animal_slb @EPlurCorruptum @xiquinhorabeta @HugoGil07 @boloposte Nem mais :)</td>\n",
              "      <td>positive</td>\n",
              "      <td>0</td>\n",
              "      <td></td>\n",
              "    </tr>\n",
              "  </tbody>\n",
              "</table>\n",
              "</div>"
            ],
            "text/plain": [
              "                                                                       tweet_text  \\\n",
              "47                                                         @claaract_ De nada! :)   \n",
              "58                                                   @WeLovesT3ddy Obrigada!!! :)   \n",
              "62                                                               Está tudo bem :)   \n",
              "75                                                       NÃO FAÇO MAIS QUESTÃO :)   \n",
              "81  @animal_slb @EPlurCorruptum @xiquinhorabeta @HugoGil07 @boloposte Nem mais :)   \n",
              "\n",
              "   sentiment  word_count text  \n",
              "47  positive           0       \n",
              "58  positive           0       \n",
              "62  positive           0       \n",
              "75  positive           0       \n",
              "81  positive           0       "
            ]
          },
          "metadata": {
            "tags": []
          }
        }
      ]
    },
    {
      "cell_type": "code",
      "metadata": {
        "id": "nNkuqSQA-nY3",
        "outputId": "d8553c12-58f4-4ef0-f2da-f1dcd5d4c1a4",
        "colab": {
          "base_uri": "https://localhost:8080/"
        }
      },
      "source": [
        "data.loc[data['word_count'] == 0, ['text']] = np.nan\n",
        "print(data.isna().sum())"
      ],
      "execution_count": 30,
      "outputs": [
        {
          "output_type": "stream",
          "text": [
            "tweet_text       0\n",
            "sentiment        0\n",
            "word_count       0\n",
            "text          2454\n",
            "dtype: int64\n"
          ],
          "name": "stdout"
        }
      ]
    },
    {
      "cell_type": "code",
      "metadata": {
        "id": "BMS1ojrq-nY5",
        "outputId": "926382b3-3831-4452-d493-28cf5abdb758",
        "colab": {
          "base_uri": "https://localhost:8080/"
        }
      },
      "source": [
        "data.dropna(inplace=True)\n",
        "print(data.isna().sum())\n",
        "print('---')\n",
        "print(data.shape)"
      ],
      "execution_count": 31,
      "outputs": [
        {
          "output_type": "stream",
          "text": [
            "tweet_text    0\n",
            "sentiment     0\n",
            "word_count    0\n",
            "text          0\n",
            "dtype: int64\n",
            "---\n",
            "(97546, 4)\n"
          ],
          "name": "stdout"
        }
      ]
    },
    {
      "cell_type": "code",
      "metadata": {
        "id": "SQosg1o75XpA"
      },
      "source": [
        "# ?nltk.FreqDist"
      ],
      "execution_count": 32,
      "outputs": []
    },
    {
      "cell_type": "code",
      "metadata": {
        "id": "fNONhpSj5XpC",
        "outputId": "5e36b776-dd38-417a-b9b0-ee53db927399",
        "colab": {
          "base_uri": "https://localhost:8080/"
        }
      },
      "source": [
        "text = ' '.join(data['text'])\n",
        "freq_dist = nltk.FreqDist(TweetTokenizer().tokenize(text))\n",
        "print(len(freq_dist))\n",
        "print('---\\n')\n",
        "# pprint(freq_dist.most_common(1000), compact=True)\n",
        "pprint(freq_dist.most_common(35), compact=True)"
      ],
      "execution_count": 33,
      "outputs": [
        {
          "output_type": "stream",
          "text": [
            "59715\n",
            "---\n",
            "\n",
            "[('fato', 3862), ('vou', 3587), ('bolsonaro', 3534), ('queria', 3067),\n",
            " ('oportunidade', 2854), ('gente', 2378), ('eleicoes', 2151), ('emprego', 2108),\n",
            " ('triste', 2028), ('amo', 1892), ('brasil', 1860), ('vaga', 1782),\n",
            " ('sp', 1627), ('haddad', 1593), ('vida', 1539), ('melhor', 1530),\n",
            " ('pessoas', 1510), ('noticia', 1421), ('acho', 1390), ('mim', 1365),\n",
            " ('mundo', 1355), ('feliz', 1313), ('amor', 1313), ('casa', 1280),\n",
            " ('kkk', 1238), ('ficar', 1223), ('ciro', 1165), ('semana', 1157),\n",
            " ('turno', 1153), ('alguem', 1125), ('fake', 1123), ('novidade', 1103),\n",
            " ('pt', 1099), ('paulo', 1091), ('deus', 1052)]\n"
          ],
          "name": "stdout"
        }
      ]
    },
    {
      "cell_type": "code",
      "metadata": {
        "id": "bXdVq-o85XpE",
        "outputId": "2dcc9c69-2cbd-442d-9998-28ca1c92569b",
        "colab": {
          "base_uri": "https://localhost:8080/"
        }
      },
      "source": [
        "rare_words = [word for word, freq in freq_dist.items() if freq == 1]\n",
        "print(f'Total de palavras únicas: {len(freq_dist)}')\n",
        "print(f'Total de palavras raras.: {len(rare_words)}')"
      ],
      "execution_count": 34,
      "outputs": [
        {
          "output_type": "stream",
          "text": [
            "Total de palavras únicas: 59715\n",
            "Total de palavras raras.: 29918\n"
          ],
          "name": "stdout"
        }
      ]
    },
    {
      "cell_type": "code",
      "metadata": {
        "id": "62e1Alir5XpG",
        "outputId": "16395664-51da-49cb-c1cf-d54b5f53c195",
        "colab": {
          "base_uri": "https://localhost:8080/",
          "height": 293
        }
      },
      "source": [
        "# Plot the sentimen distribution\n",
        "sns.set()\n",
        "sns.countplot(x='sentiment', data=data)\n",
        "plt.title('Sentiment Distribution', fontsize=14)\n",
        "plt.tight_layout();"
      ],
      "execution_count": 35,
      "outputs": [
        {
          "output_type": "display_data",
          "data": {
            "image/png": "[encoded data removed]",
            "text/plain": [
              "<Figure size 432x288 with 1 Axes>"
            ]
          },
          "metadata": {
            "tags": []
          }
        }
      ]
    },
    {
      "cell_type": "code",
      "metadata": {
        "id": "bAEHuQ6O5XpJ"
      },
      "source": [
        "# %%time\n",
        "# data['text'] = data['text'].apply(lambda row: ' '.join([word for word in row.split() if word not in rare_words]))"
      ],
      "execution_count": 36,
      "outputs": []
    },
    {
      "cell_type": "markdown",
      "metadata": {
        "id": "JYzwD2Q_-nZ4"
      },
      "source": [
        "## Training and validating the model"
      ]
    },
    {
      "cell_type": "code",
      "metadata": {
        "id": "KnuPBQ7W-nZ5",
        "outputId": "0e3ac3c1-5e9f-48c9-9097-b1f0eeefcadf",
        "colab": {
          "base_uri": "https://localhost:8080/"
        }
      },
      "source": [
        "data_reduced = data.loc[data['word_count'] > 4]\n",
        "\n",
        "reduction = (original_shape[0] - data_reduced.shape[0]) / original_shape[0]\n",
        "print(f'redução de {reduction:.2%} em relação aos dados originais')"
      ],
      "execution_count": 37,
      "outputs": [
        {
          "output_type": "stream",
          "text": [
            "redução de 42.05% em relação aos dados originais\n"
          ],
          "name": "stdout"
        }
      ]
    },
    {
      "cell_type": "code",
      "metadata": {
        "id": "FH7hnjrD5XpN"
      },
      "source": [
        "X = data_reduced.loc[:, ['text', 'word_count']]\n",
        "y = data_reduced['sentiment'].values\n",
        "\n",
        "# X = data.loc[:, ['text', 'word_count']]\n",
        "# y = data['sentiment'].values"
      ],
      "execution_count": 38,
      "outputs": []
    },
    {
      "cell_type": "code",
      "metadata": {
        "id": "ddmRWvjq-nZ-",
        "outputId": "ad755639-4dae-47c9-f9cb-e288f2171abf",
        "colab": {
          "base_uri": "https://localhost:8080/"
        }
      },
      "source": [
        "X_train, X_test, y_train, y_test = train_test_split(X, y, test_size=0.2, stratify=y, random_state=0)\n",
        "\n",
        "X_train.shape, y_train.shape, X_test.shape, y_test.shape"
      ],
      "execution_count": 39,
      "outputs": [
        {
          "output_type": "execute_result",
          "data": {
            "text/plain": [
              "((46357, 2), (46357,), (11590, 2), (11590,))"
            ]
          },
          "metadata": {
            "tags": []
          },
          "execution_count": 39
        }
      ]
    },
    {
      "cell_type": "code",
      "metadata": {
        "id": "FVMsbhqd-naB",
        "outputId": "a56baffa-461b-4178-b61c-31005e187735",
        "colab": {
          "base_uri": "https://localhost:8080/",
          "height": 365
        }
      },
      "source": [
        "# # Updata the \"word_count\" column\n",
        "data['word_count'] = data['text'].apply(lambda row: len(row.split()))\n",
        "\n",
        "sns.set()\n",
        "bins=len(set(X_train['word_count']))\n",
        "sns.displot(x='word_count', data=X_train, kind='kde', fill=True) # ) #, bins=bins)\n",
        "# sns.displot(x='word_count', data=X_train, bins=bins)\n",
        "plt.tight_layout();"
      ],
      "execution_count": 40,
      "outputs": [
        {
          "output_type": "display_data",
          "data": {
            "image/png": "[encoded data removed]",
            "text/plain": [
              "<Figure size 360x360 with 1 Axes>"
            ]
          },
          "metadata": {
            "tags": []
          }
        }
      ]
    },
    {
      "cell_type": "code",
      "metadata": {
        "id": "7an_6VGS-naG"
      },
      "source": [
        "params = {\n",
        "    'tokenizer': {'num_words': None, 'oov_token': '<UNK>'},\n",
        "    'pad_sequences': {'maxlen': 30, 'padding': 'post', 'truncating': 'post'},\n",
        "}\n",
        "\n",
        "tokenize = Tokenizer(**params['tokenizer'])\n",
        "tokenize.fit_on_texts(X_train['text'])\n",
        "word_index = tokenize.word_index\n",
        "\n",
        "X_train_seq = tokenize.texts_to_sequences(X_train['text'])\n",
        "X_train_pad = pad_sequences(X_train_seq, **params['pad_sequences'])\n",
        "\n",
        "X_test_seq  = tokenize.texts_to_sequences(X_test['text'])\n",
        "X_test_pad  = pad_sequences(X_test_seq, **params['pad_sequences'])"
      ],
      "execution_count": 41,
      "outputs": []
    },
    {
      "cell_type": "markdown",
      "metadata": {
        "id": "YP18VN235XpZ"
      },
      "source": [
        "## Preparing labels"
      ]
    },
    {
      "cell_type": "code",
      "metadata": {
        "id": "dzHUiyFw5XpZ"
      },
      "source": [
        "le = LabelEncoder()\n",
        "\n",
        "y_train = le.fit_transform(y_train)\n",
        "y_test  = le.transform(y_test)\n",
        "\n",
        "target_names = le.classes_"
      ],
      "execution_count": 42,
      "outputs": []
    },
    {
      "cell_type": "code",
      "metadata": {
        "id": "c-2K8H0i-naJ",
        "outputId": "545bc7ad-a76e-4294-b285-2b60a20a624d",
        "colab": {
          "base_uri": "https://localhost:8080/"
        }
      },
      "source": [
        "X_train_pad.shape, y_train.shape, X_test_pad.shape, y_test.shape, len(word_index), target_names"
      ],
      "execution_count": 43,
      "outputs": [
        {
          "output_type": "execute_result",
          "data": {
            "text/plain": [
              "((46357, 30),\n",
              " (46357,),\n",
              " (11590, 30),\n",
              " (11590,),\n",
              " 48121,\n",
              " array(['negative', 'neutral', 'positive'], dtype=object))"
            ]
          },
          "metadata": {
            "tags": []
          },
          "execution_count": 43
        }
      ]
    },
    {
      "cell_type": "code",
      "metadata": {
        "id": "iI97WwXD-naX"
      },
      "source": [
        "# %%time\n",
        "# tf.keras.backend.clear_session()\n",
        "# tf.random.set_seed(0)\n",
        "# np.random.seed(0)\n",
        "\n",
        "# vocab_size = len(word_index) + 1\n",
        "# embedding_dim = 32\n",
        "\n",
        "# classifier = tf.keras.models.Sequential([\n",
        "#              tf.keras.layers.Embedding(vocab_size,\n",
        "#                                        embedding_dim, \n",
        "#                                        input_length=X_train_pad.shape[1]),\n",
        "#              tf.keras.layers.Bidirectional(tf.keras.layers.LSTM(embedding_dim,\n",
        "#                                                                 # dropout=0.25,\n",
        "#                                                                 # recurrent_dropout=0.25)\n",
        "#                                                                 ),\n",
        "#              tf.keras.layers.Dense(3, activation='softmax'),\n",
        "# ])\n",
        "\n",
        "# classifier.compile(optimizer=tf.keras.optimizers.Adam(lr=1e-1),\n",
        "#                    loss='sparse_categorical_crossentropy',\n",
        "#                    metrics=['accuracy'])\n",
        "\n",
        "# classifier.summary()"
      ],
      "execution_count": 44,
      "outputs": []
    },
    {
      "cell_type": "code",
      "metadata": {
        "id": "IplnTdl9-naZ"
      },
      "source": [
        "# %%time\n",
        "\n",
        "# lr_schedule = tf.keras.callbacks.LearningRateScheduler(lambda epoch: 1e-6 * 10**(epoch / 20))\n",
        "\n",
        "# batch_size = 128\n",
        "# history = classifier.fit(X_train_pad,\n",
        "#                          y_train,\n",
        "#                          batch_size=batch_size, \n",
        "#                          epochs=100, \n",
        "#                          validation_split=0.2, \n",
        "#                          callbacks=[lr_schedule], \n",
        "#                          workers=4, \n",
        "#                          use_multiprocessing=True,\n",
        "#                          verbose=1);"
      ],
      "execution_count": 45,
      "outputs": []
    },
    {
      "cell_type": "code",
      "metadata": {
        "id": "8g170cXM-nae"
      },
      "source": [
        "# plt.semilogx(history.history[\"lr\"], history.history[\"loss\"])\n",
        "# plt.axis([1e-6, 1e-1, 0, 1.25])"
      ],
      "execution_count": 46,
      "outputs": []
    },
    {
      "cell_type": "code",
      "metadata": {
        "id": "dAmqkadW-nag"
      },
      "source": [
        "# lr_hist = pd.DataFrame(history.history)\n",
        "# lr_hist.head(4)"
      ],
      "execution_count": 47,
      "outputs": []
    },
    {
      "cell_type": "code",
      "metadata": {
        "id": "uAbX63s5-nao"
      },
      "source": [
        "# fig, ax = plt.subplots(1, 2, figsize=(12, 5))\n",
        "\n",
        "# sns.lineplot(x='lr', y='loss', data=lr_hist, ax=ax[0])\n",
        "# ax[0].set(xlabel='Learning rate')\n",
        "# sns.lineplot(x='lr', y='loss', data=lr_hist, ax=ax[1])\n",
        "# ax[1].set(xscale='log', xlabel='Learning rate')\n",
        "# ax[1].axvline(1.7e-2, color='g', linestyle='--', linewidth=1)\n",
        "# ax[1].axhline(lr_hist['loss'].min(), color='r', linestyle='--', linewidth=1)\n",
        "# plt.tight_layout();"
      ],
      "execution_count": 48,
      "outputs": []
    },
    {
      "cell_type": "code",
      "metadata": {
        "id": "beBgGba0-nar"
      },
      "source": [
        "# help(tf.keras.callbacks.ReduceLROnPlateau)"
      ],
      "execution_count": 49,
      "outputs": []
    },
    {
      "cell_type": "code",
      "metadata": {
        "id": "LwugvCoQ-nat"
      },
      "source": [
        "callbacks = [\n",
        "    tf.keras.callbacks.ReduceLROnPlateau('val_accuracy',    \n",
        "                                         patience=4,\n",
        "                                         factor=0.5,\n",
        "                                         mode='max',\n",
        "                                         verbose=1),\n",
        "\n",
        "    tf.keras.callbacks.EarlyStopping('val_accuracy', \n",
        "                                     patience=10,\n",
        "                                     verbose=1,\n",
        "                                     mode='max',\n",
        "                                     restore_best_weights=True),\n",
        "]"
      ],
      "execution_count": 50,
      "outputs": []
    },
    {
      "cell_type": "code",
      "metadata": {
        "id": "m_o3Ep_h-nav",
        "outputId": "2402880f-4891-43aa-9f07-c1810274c221",
        "colab": {
          "base_uri": "https://localhost:8080/"
        }
      },
      "source": [
        "\n",
        "random.seed(0)\n",
        "tf.random.set_seed(0)\n",
        "np.random.seed(0)\n",
        "tf.keras.backend.clear_session()\n",
        "\n",
        "vocab_size =  len(word_index) + 1 # params['tokenizer']['num_words']\n",
        "embedding_dim = 128\n",
        "\n",
        "classifier = tf.keras.models.Sequential([\n",
        "             tf.keras.layers.Embedding(vocab_size,\n",
        "                                       embedding_dim, \n",
        "                                       # weights=[embeddings_matrix], trainable=False,\n",
        "                                       input_length=X_train_pad.shape[1]),\n",
        "            # tf.keras.layers.GRU(embedding_dim),\n",
        "            tf.keras.layers.Bidirectional(tf.keras.layers.LSTM(embedding_dim, dropout=0.5, recurrent_dropout=0.5, return_sequences=True)),\n",
        "            tf.keras.layers.Bidirectional(tf.keras.layers.LSTM(embedding_dim)), # , dropout=0.5, recurrent_dropout=0.5)), # dropout=0.4, recurrent_dropout=0.4, return_sequences=True)),\n",
        "            #  tf.keras.layers.Bidirectional(tf.keras.layers.LSTM(embedding_dim, dropout=0.4, recurrent_dropout=0.4)),  #, dropout=0.1, recurrent_dropout=0.1)), # )),\n",
        "            #  tf.keras.layers.Conv1D(128, 3, activation='relu', padding='same'),\n",
        "            #  tf.keras.layers.Conv1D(256, 3, activation='relu', padding='same'),\n",
        "\n",
        "                                                                # dropout=0.25,\n",
        "                                                                # recurrent_dropout=0.25)), # dropout=0.25, recurrent_dropout=0.25\n",
        "             tf.keras.layers.Dense(64, activation='relu'),\n",
        "             tf.keras.layers.Dense(3, activation='softmax'),\n",
        "])\n",
        "\n",
        "lr = 1e-2\n",
        "classifier.compile(optimizer=tf.keras.optimizers.Adam(lr=lr),\n",
        "                   loss='sparse_categorical_crossentropy',\n",
        "                   metrics=['accuracy'])\n",
        "\n",
        "classifier.summary()"
      ],
      "execution_count": 72,
      "outputs": [
        {
          "output_type": "stream",
          "text": [
            "WARNING:tensorflow:Layer lstm will not use cuDNN kernel since it doesn't meet the cuDNN kernel criteria. It will use generic GPU kernel as fallback when running on GPU\n",
            "WARNING:tensorflow:Layer lstm will not use cuDNN kernel since it doesn't meet the cuDNN kernel criteria. It will use generic GPU kernel as fallback when running on GPU\n",
            "WARNING:tensorflow:Layer lstm will not use cuDNN kernel since it doesn't meet the cuDNN kernel criteria. It will use generic GPU kernel as fallback when running on GPU\n",
            "Model: \"sequential\"\n",
            "_________________________________________________________________\n",
            "Layer (type)                 Output Shape              Param #   \n",
            "=================================================================\n",
            "embedding (Embedding)        (None, 30, 128)           6159616   \n",
            "_________________________________________________________________\n",
            "bidirectional (Bidirectional (None, 256)               263168    \n",
            "_________________________________________________________________\n",
            "dense (Dense)                (None, 64)                16448     \n",
            "_________________________________________________________________\n",
            "dense_1 (Dense)              (None, 3)                 195       \n",
            "=================================================================\n",
            "Total params: 6,439,427\n",
            "Trainable params: 6,439,427\n",
            "Non-trainable params: 0\n",
            "_________________________________________________________________\n"
          ],
          "name": "stdout"
        }
      ]
    },
    {
      "cell_type": "code",
      "metadata": {
        "id": "iEV_-N-9-nax",
        "outputId": "b26cb593-a56c-42db-b6b3-bbea9f60f5ff",
        "colab": {
          "base_uri": "https://localhost:8080/"
        }
      },
      "source": [
        "%%time\n",
        "history = classifier.fit(X_train_pad,\n",
        "                         y_train,\n",
        "                         batch_size=64, \n",
        "                         epochs=100, \n",
        "                         validation_split=0.2, \n",
        "                         callbacks=callbacks, \n",
        "                         workers=4, \n",
        "                         use_multiprocessing=True);"
      ],
      "execution_count": 73,
      "outputs": [
        {
          "output_type": "stream",
          "text": [
            "Epoch 1/100\n",
            "580/580 [==============================] - 171s 295ms/step - loss: 0.4862 - accuracy: 0.7871 - val_loss: 0.4034 - val_accuracy: 0.8307\n",
            "Epoch 2/100\n",
            "580/580 [==============================] - 169s 292ms/step - loss: 0.2393 - accuracy: 0.9023 - val_loss: 0.4776 - val_accuracy: 0.8247\n",
            "Epoch 3/100\n",
            "580/580 [==============================] - 167s 287ms/step - loss: 0.1409 - accuracy: 0.9457 - val_loss: 0.6019 - val_accuracy: 0.8176\n",
            "Epoch 4/100\n",
            "580/580 [==============================] - 164s 283ms/step - loss: 0.1055 - accuracy: 0.9610 - val_loss: 0.7678 - val_accuracy: 0.8083\n",
            "Epoch 5/100\n",
            "580/580 [==============================] - ETA: 0s - loss: 0.0993 - accuracy: 0.9628\n",
            "Epoch 00005: ReduceLROnPlateau reducing learning rate to 0.004999999888241291.\n",
            "580/580 [==============================] - 166s 286ms/step - loss: 0.0993 - accuracy: 0.9628 - val_loss: 0.8918 - val_accuracy: 0.8034\n",
            "Epoch 6/100\n",
            "580/580 [==============================] - 167s 288ms/step - loss: 0.0834 - accuracy: 0.9697 - val_loss: 0.8968 - val_accuracy: 0.8083\n",
            "Epoch 7/100\n",
            "580/580 [==============================] - 169s 291ms/step - loss: 0.0668 - accuracy: 0.9753 - val_loss: 1.1106 - val_accuracy: 0.8052\n",
            "Epoch 8/100\n",
            "580/580 [==============================] - 166s 287ms/step - loss: 0.0640 - accuracy: 0.9765 - val_loss: 0.9948 - val_accuracy: 0.8055\n",
            "Epoch 9/100\n",
            "580/580 [==============================] - ETA: 0s - loss: 0.0573 - accuracy: 0.9788\n",
            "Epoch 00009: ReduceLROnPlateau reducing learning rate to 0.0024999999441206455.\n",
            "580/580 [==============================] - 166s 287ms/step - loss: 0.0573 - accuracy: 0.9788 - val_loss: 1.0036 - val_accuracy: 0.8041\n",
            "Epoch 10/100\n",
            "580/580 [==============================] - 169s 292ms/step - loss: 0.0494 - accuracy: 0.9818 - val_loss: 1.1354 - val_accuracy: 0.8046\n",
            "Epoch 11/100\n",
            "580/580 [==============================] - ETA: 0s - loss: 0.0469 - accuracy: 0.9835Restoring model weights from the end of the best epoch.\n",
            "580/580 [==============================] - 166s 286ms/step - loss: 0.0469 - accuracy: 0.9835 - val_loss: 1.0633 - val_accuracy: 0.8046\n",
            "Epoch 00011: early stopping\n",
            "CPU times: user 46min 3s, sys: 5min 58s, total: 52min 1s\n",
            "Wall time: 30min 48s\n"
          ],
          "name": "stdout"
        }
      ]
    },
    {
      "cell_type": "code",
      "metadata": {
        "id": "8bCIDJU--naz"
      },
      "source": [
        "hist = pd.DataFrame(history.history)"
      ],
      "execution_count": 74,
      "outputs": []
    },
    {
      "cell_type": "code",
      "metadata": {
        "id": "7SslJztN-na0",
        "outputId": "ad74d155-3aa9-43c6-e788-fe7d9370b2a5",
        "colab": {
          "base_uri": "https://localhost:8080/",
          "height": 365
        }
      },
      "source": [
        "sns.set(style='white')\n",
        "\n",
        "fig, ax = plt.subplots(1, 2, figsize=(12, 5))\n",
        "\n",
        "sns.lineplot(x=hist.index, y='loss', data=hist, label='Training loss', ax=ax[0])\n",
        "sns.lineplot(x=hist.index, y='val_loss', data=hist, label='Validation loss', ax=ax[0])\n",
        "\n",
        "ax[0].set(xlabel='Epochs', ylabel='Loss')\n",
        "ax[0].set_title('Training and Validation Loss', fontsize=14)\n",
        "\n",
        "sns.lineplot(x=hist.index, y='accuracy', data=hist, label='Training accuracy', ax=ax[1])\n",
        "\n",
        "sns.lineplot(x=hist.index, y='val_accuracy', data=hist, label='Validation accuracy', ax=ax[1])\n",
        "\n",
        "ax[1].set(xlabel='Epochs', ylabel='Accuracy')\n",
        "ax[1].set_title('Training and Validation Accuracy', fontsize=14)\n",
        "\n",
        "sns.despine()             \n",
        "plt.tight_layout();"
      ],
      "execution_count": 75,
      "outputs": [
        {
          "output_type": "display_data",
          "data": {
            "image/png": "[encoded data removed]",
            "text/plain": [
              "<Figure size 864x360 with 2 Axes>"
            ]
          },
          "metadata": {
            "tags": []
          }
        }
      ]
    },
    {
      "cell_type": "code",
      "metadata": {
        "id": "3oiAh7kb-na2",
        "outputId": "d8cc97a8-c3b2-4334-f9f0-d7e3db8fba95",
        "colab": {
          "base_uri": "https://localhost:8080/"
        }
      },
      "source": [
        "_, accuracy = classifier.evaluate(X_test_pad, y_test, batch_size=1024, verbose=0)\n",
        "print(f'Accuracy: {accuracy:.2%}')"
      ],
      "execution_count": 76,
      "outputs": [
        {
          "output_type": "stream",
          "text": [
            "Accuracy: 83.07%\n"
          ],
          "name": "stdout"
        }
      ]
    },
    {
      "cell_type": "code",
      "metadata": {
        "id": "ms05cYHz-na8",
        "outputId": "bd00a61b-0644-41fd-b30a-8dd28093f59c",
        "colab": {
          "base_uri": "https://localhost:8080/",
          "height": 365
        }
      },
      "source": [
        "preds = np.argmax(classifier.predict(X_test_pad, batch_size=1024), axis=1)\n",
        "\n",
        "\n",
        "fig, ax = plt.subplots(1, 2, figsize=(12, 5))\n",
        "sns.heatmap(confusion_matrix(y_test, preds),\n",
        "            cmap='Blues',\n",
        "            center=None,\n",
        "            annot=True,\n",
        "            fmt='d',\n",
        "            linewidths=1,\n",
        "            cbar=False,\n",
        "            square=True,\n",
        "            xticklabels=target_names,\n",
        "            yticklabels=target_names,\n",
        "            ax=ax[0])\n",
        "            \n",
        "ax[0].set_title('Confusion Matrix', fontsize=14)    \n",
        "\n",
        "sns.heatmap(confusion_matrix(y_test, preds, normalize='true'),\n",
        "            cmap='Blues',\n",
        "            center=None,\n",
        "            annot=True,\n",
        "            fmt='.0%',\n",
        "            linewidths=1,\n",
        "            cbar=False,\n",
        "            square=True,\n",
        "            xticklabels=target_names,\n",
        "            yticklabels=target_names,\n",
        "            ax=ax[1])\n",
        "ax[1].set_title('Confusion Matrix (Normalized)', fontsize=14) \n",
        "\n",
        "plt.tight_layout();"
      ],
      "execution_count": 77,
      "outputs": [
        {
          "output_type": "display_data",
          "data": {
            "image/png": "[encoded data removed]",
            "text/plain": [
              "<Figure size 864x360 with 2 Axes>"
            ]
          },
          "metadata": {
            "tags": []
          }
        }
      ]
    },
    {
      "cell_type": "code",
      "metadata": {
        "id": "CItgSIkF-na-",
        "outputId": "b14635d5-e25e-4c72-f4d2-322440779555",
        "colab": {
          "base_uri": "https://localhost:8080/"
        }
      },
      "source": [
        "print(classification_report(y_test, preds, target_names=target_names));"
      ],
      "execution_count": 78,
      "outputs": [
        {
          "output_type": "stream",
          "text": [
            "              precision    recall  f1-score   support\n",
            "\n",
            "    negative       0.71      0.71      0.71      2496\n",
            "     neutral       0.93      0.97      0.95      6030\n",
            "    positive       0.72      0.66      0.69      3064\n",
            "\n",
            "    accuracy                           0.83     11590\n",
            "   macro avg       0.79      0.78      0.78     11590\n",
            "weighted avg       0.83      0.83      0.83     11590\n",
            "\n"
          ],
          "name": "stdout"
        }
      ]
    },
    {
      "cell_type": "markdown",
      "metadata": {
        "id": "WM3qx1cozbPE"
      },
      "source": [
        "### Sem pontuação, emoticons, emojis, `len(word) > 1` word_count > 4, sem acentuação + Stemmer\n",
        "    Accuracy: 82.10%\n",
        "\n",
        "                      precision    recall  f1-score   support\n",
        "    \n",
        "        negative       0.71      0.69      0.70      2496\n",
        "         neutral       0.92      0.96      0.94      6030\n",
        "        positive       0.70      0.66      0.68      3064\n",
        "    \n",
        "        accuracy                           0.82     11590\n",
        "       macro avg       0.78      0.77      0.77     11590\n",
        "    weighted avg       0.82      0.82      0.82     11590\n",
        "\n",
        "\n",
        "### Sem pontuação, emoticons, emojis, `len(word) > 1` word_count > 4, sem acentuação + SnollBall Stemmer\n",
        "    Accuracy: 81.44%\n",
        "    \n",
        "                 precision    recall  f1-score   support\n",
        "    \n",
        "        negative       0.69      0.69      0.69      2496\n",
        "         neutral       0.94      0.93      0.94      6030\n",
        "        positive       0.67      0.69      0.68      3064\n",
        "    \n",
        "        accuracy                           0.81     11590\n",
        "       macro avg       0.77      0.77      0.77     11590\n",
        "    weighted avg       0.82      0.81      0.82     11590\n",
        "\n",
        "\n",
        "---\n",
        "\n",
        "### Sem pontuação, emoticons, emojis, `len(word) > 1` word_count > 4, sem acentuação\n",
        "    Accuracy: 83.17%\n",
        "    \n",
        "                  precision    recall  f1-score   support\n",
        "    \n",
        "        negative       0.69      0.75      0.72      2496\n",
        "         neutral       0.94      0.96      0.95      6030\n",
        "        positive       0.73      0.64      0.68      3064\n",
        "    \n",
        "        accuracy                           0.83     11590\n",
        "       macro avg       0.79      0.79      0.78     11590\n",
        "    weighted avg       0.83      0.83      0.83     11590\n",
        "\n",
        "\n",
        "---\n",
        "\n",
        "### Sem pontuação, emoticons, emojis, `len(word) > 1` word_count > 4\n",
        "    Accuracy: 82.65%\n",
        "\n",
        "                  precision    recall  f1-score   support\n",
        "    \n",
        "        negative       0.73      0.67      0.70      2499\n",
        "         neutral       0.94      0.94      0.94      6032\n",
        "        positive       0.68      0.73      0.70      3068\n",
        "    \n",
        "        accuracy                           0.83     11599\n",
        "       macro avg       0.78      0.78      0.78     11599\n",
        "    weighted avg       0.83      0.83      0.83     11599\n",
        "\n"
      ]
    },
    {
      "cell_type": "code",
      "metadata": {
        "id": "lhrHkEuwzsnL"
      },
      "source": [
        ""
      ],
      "execution_count": 78,
      "outputs": []
    },
    {
      "cell_type": "code",
      "metadata": {
        "id": "0Acm8A9tztB8"
      },
      "source": [
        ""
      ],
      "execution_count": 78,
      "outputs": []
    },
    {
      "cell_type": "code",
      "metadata": {
        "id": "n88YW3PRzs2L"
      },
      "source": [
        ""
      ],
      "execution_count": 78,
      "outputs": []
    },
    {
      "cell_type": "code",
      "metadata": {
        "id": "DgC2G0-FzsVr"
      },
      "source": [
        ""
      ],
      "execution_count": 78,
      "outputs": []
    },
    {
      "cell_type": "markdown",
      "metadata": {
        "id": "zuH_M6RW5Xp6"
      },
      "source": [
        " ### Sem pontuação, emoticons, emojis, `len(word) > 1` word_count > 5\n",
        "                   precision    recall  f1-score   support\n",
        "    \n",
        "        negative       0.69      0.70      0.69      1917\n",
        "         neutral       0.94      0.96      0.95      5319\n",
        "        positive       0.71      0.66      0.68      2492\n",
        "    \n",
        "        accuracy                           0.83      9728\n",
        "       macro avg       0.78      0.77      0.78      9728\n",
        "    weighted avg       0.83      0.83      0.83      9728\n",
        "\n",
        "\n",
        " \n",
        " \n",
        " ### Sem pontuação, emoticons, emojis, `len(word) > 1` word_count > 4\n",
        "\n",
        "\n",
        "                   precision    recall  f1-score   support\n",
        "    \n",
        "        negative       0.73      0.67      0.70      2499\n",
        "         neutral       0.94      0.94      0.94      6032\n",
        "        positive       0.68      0.73      0.70      3068\n",
        "    \n",
        "        accuracy                           0.83     11599\n",
        "       macro avg       0.78      0.78      0.78     11599\n",
        "    weighted avg       0.83      0.83      0.83     11599\n",
        " \n",
        " ### Sem pontuação, emoticons, emojis, `len(word) > 1` word_count > 3\n",
        " \n",
        "                 precision    recall  f1-score   support\n",
        "    \n",
        "        negative       0.70      0.72      0.71      3247\n",
        "         neutral       0.94      0.95      0.95      6387\n",
        "        positive       0.70      0.66      0.68      3752\n",
        "    \n",
        "        accuracy                           0.82     13386\n",
        "       macro avg       0.78      0.78      0.78     13386\n",
        "    weighted avg       0.81      0.82      0.82     13386\n",
        " \n",
        " \n",
        " \n",
        " ### Sem pontuação, emoticons, emojis, `len(word) > 1` word_count > 2\n",
        "             \n",
        "                 precision    recall  f1-score   support\n",
        "    \n",
        "        negative       0.71      0.74      0.72      4195\n",
        "         neutral       0.93      0.96      0.94      6560\n",
        "        positive       0.71      0.65      0.68      4574\n",
        "    \n",
        "        accuracy                           0.80     15329\n",
        "       macro avg       0.78      0.78      0.78     15329\n",
        "    weighted avg       0.80      0.80      0.80     15329\n",
        " \n",
        " \n",
        " \n",
        " ### Sem pontuação, emoticons, emojis, `len(word) > 1` word_count > 1\n",
        "\n",
        "                 precision    recall  f1-score   support\n",
        "    \n",
        "        negative       0.73      0.74      0.73      5383\n",
        "         neutral       0.93      0.95      0.94      6637\n",
        "        positive       0.70      0.68      0.69      5518\n",
        "    \n",
        "        accuracy                           0.80     17538\n",
        "       macro avg       0.79      0.79      0.79     17538\n",
        "    weighted avg       0.80      0.80      0.80     17538\n",
        "\n",
        "---\n",
        "\n",
        "### Sem pontuação, emoticons, emojis, `len(word) > 1`\n",
        "\n",
        "                  precision    recall  f1-score   support\n",
        "    \n",
        "        negative       0.70      0.77      0.74      6466\n",
        "         neutral       0.94      0.95      0.94      6654\n",
        "        positive       0.71      0.64      0.67      6390\n",
        "    \n",
        "        accuracy                           0.79     19510\n",
        "       macro avg       0.79      0.79      0.78     19510\n",
        "    weighted avg       0.79      0.79      0.79     19510\n",
        "\n",
        "---\n",
        "\n",
        "### Sem pontuação, emoticons, emojis, sem acento `len(word) > 1`\n",
        "\n",
        "                  precision    recall  f1-score   support\n",
        "    \n",
        "        negative       0.72      0.74      0.73      6466\n",
        "         neutral       0.93      0.95      0.94      6654\n",
        "        positive       0.70      0.67      0.69      6389\n",
        "    \n",
        "        accuracy                           0.79     19509\n",
        "       macro avg       0.79      0.79      0.79     19509\n",
        "    weighted avg       0.79      0.79      0.79     19509\n",
        "\n",
        "---\n",
        "\n",
        "### Sem pontuação, emoticons, emojis, sem acento `len(word) > 1` + Lemmatization\n",
        "                  precision    recall  f1-score   support\n",
        "    \n",
        "        negative       0.69      0.77      0.73      6466\n",
        "         neutral       0.93      0.94      0.94      6654\n",
        "        positive       0.71      0.61      0.66      6390\n",
        "    \n",
        "        accuracy                           0.78     19510\n",
        "       macro avg       0.78      0.78      0.78     19510\n",
        "    weighted avg       0.78      0.78      0.78     19510\n",
        "\n",
        "\n",
        "### Sem pontuação, emoticons, emojis, sem acento `len(word) > 1` + NLTK SnowBall Portuguese stemmer\n",
        "\n",
        "---\n",
        "\n",
        "\n",
        "\n",
        "\n",
        "\n",
        "---\n",
        "\n",
        "\n",
        "### Sem pontuação, emoticons, emojis, hashtags `len(word) > 1`\n",
        "                  precision    recall  f1-score   support\n",
        "    \n",
        "        negative       0.71      0.78      0.74      6464\n",
        "         neutral       0.91      0.86      0.88      6616\n",
        "        positive       0.68      0.64      0.66      6383\n",
        "    \n",
        "        accuracy                           0.76     19463\n",
        "       macro avg       0.76      0.76      0.76     19463\n",
        "    weighted avg       0.76      0.76      0.76     19463\n",
        "\n",
        "\n"
      ]
    },
    {
      "cell_type": "code",
      "metadata": {
        "id": "1nYTtK575Xp9"
      },
      "source": [
        ""
      ],
      "execution_count": 78,
      "outputs": []
    },
    {
      "cell_type": "code",
      "metadata": {
        "id": "mAbtaU0v-naT",
        "outputId": "d52014ce-49d2-4ca7-e5f8-1a14a6d0601b",
        "colab": {
          "base_uri": "https://localhost:8080/"
        }
      },
      "source": [
        "%%time\n",
        "glove_model = KeyedVectors.load_word2vec_format('./glove_s100.txt')\n",
        "print(len(glove_model.vocab))\n",
        "\n",
        "vocab_size = len(word_index) + 1\n",
        "embedding_dim = 100\n",
        "\n",
        "embeddings_matrix = np.zeros((vocab_size, embedding_dim))\n",
        "\n",
        "for word, i in word_index.items():\n",
        "    if word in glove_model:\n",
        "        embeddings_matrix[i] = glove_model[word]\n",
        "\n",
        "embeddings_matrix.shape"
      ],
      "execution_count": 79,
      "outputs": [
        {
          "output_type": "stream",
          "text": [
            "929605\n",
            "CPU times: user 1min 14s, sys: 593 ms, total: 1min 14s\n",
            "Wall time: 1min 14s\n"
          ],
          "name": "stdout"
        }
      ]
    },
    {
      "cell_type": "code",
      "metadata": {
        "id": "iwGsVAq95XqA",
        "outputId": "0b6808e0-05c8-49fe-a3f3-11bd79a7c9fc",
        "colab": {
          "base_uri": "https://localhost:8080/"
        }
      },
      "source": [
        "random.seed(0)\n",
        "tf.random.set_seed(0)\n",
        "np.random.seed(0)\n",
        "tf.keras.backend.clear_session()\n",
        "\n",
        "classifier = tf.keras.models.Sequential([\n",
        "             tf.keras.layers.Embedding(vocab_size,\n",
        "                                       embedding_dim, \n",
        "                                       weights=[embeddings_matrix], trainable=False,\n",
        "                                       input_length=X_train_pad.shape[1]),\n",
        "            # tf.keras.layers.GRU(embedding_dim),\n",
        "             tf.keras.layers.Bidirectional(tf.keras.layers.LSTM(embedding_dim, dropout=0.25, recurrent_dropout=0.25)), # dropout=0.4, recurrent_dropout=0.4, return_sequences=True)),\n",
        "            #  tf.keras.layers.Bidirectional(tf.keras.layers.LSTM(embedding_dim, dropout=0.4, recurrent_dropout=0.4)),  #, dropout=0.1, recurrent_dropout=0.1)), # )),\n",
        "            #  tf.keras.layers.Conv1D(128, 3, activation='relu', padding='same'),\n",
        "            #  tf.keras.layers.Conv1D(256, 3, activation='relu', padding='same'),\n",
        "\n",
        "                                                                # dropout=0.25,\n",
        "                                                                # recurrent_dropout=0.25)), # dropout=0.25, recurrent_dropout=0.25\n",
        "             tf.keras.layers.Dense(32, activation='relu'),\n",
        "             tf.keras.layers.Dense(3, activation='softmax'),\n",
        "])\n",
        "\n",
        "lr = 1e-2\n",
        "classifier.compile(optimizer=tf.keras.optimizers.Adam(lr=lr),\n",
        "                   loss='sparse_categorical_crossentropy',\n",
        "                   metrics=['accuracy'])\n",
        "\n",
        "classifier.summary()"
      ],
      "execution_count": 80,
      "outputs": [
        {
          "output_type": "stream",
          "text": [
            "WARNING:tensorflow:Layer lstm will not use cuDNN kernel since it doesn't meet the cuDNN kernel criteria. It will use generic GPU kernel as fallback when running on GPU\n",
            "WARNING:tensorflow:Layer lstm will not use cuDNN kernel since it doesn't meet the cuDNN kernel criteria. It will use generic GPU kernel as fallback when running on GPU\n",
            "WARNING:tensorflow:Layer lstm will not use cuDNN kernel since it doesn't meet the cuDNN kernel criteria. It will use generic GPU kernel as fallback when running on GPU\n",
            "Model: \"sequential\"\n",
            "_________________________________________________________________\n",
            "Layer (type)                 Output Shape              Param #   \n",
            "=================================================================\n",
            "embedding (Embedding)        (None, 30, 100)           4812200   \n",
            "_________________________________________________________________\n",
            "bidirectional (Bidirectional (None, 200)               160800    \n",
            "_________________________________________________________________\n",
            "dense (Dense)                (None, 32)                6432      \n",
            "_________________________________________________________________\n",
            "dense_1 (Dense)              (None, 3)                 99        \n",
            "=================================================================\n",
            "Total params: 4,979,531\n",
            "Trainable params: 167,331\n",
            "Non-trainable params: 4,812,200\n",
            "_________________________________________________________________\n"
          ],
          "name": "stdout"
        }
      ]
    },
    {
      "cell_type": "code",
      "metadata": {
        "id": "f3vq8vh55XqC",
        "outputId": "676098e4-4fd6-4140-f800-c643f2610152",
        "colab": {
          "base_uri": "https://localhost:8080/"
        }
      },
      "source": [
        "%%time\n",
        "history = classifier.fit(X_train_pad,\n",
        "                         y_train,\n",
        "                         batch_size=64, \n",
        "                         epochs=100, \n",
        "                         validation_split=0.2, \n",
        "                         callbacks=callbacks, \n",
        "                         workers=4, \n",
        "                         use_multiprocessing=True);"
      ],
      "execution_count": null,
      "outputs": [
        {
          "output_type": "stream",
          "text": [
            "Epoch 1/100\n",
            "580/580 [==============================] - 129s 223ms/step - loss: 0.5548 - accuracy: 0.7494 - val_loss: 0.4710 - val_accuracy: 0.7936\n",
            "Epoch 2/100\n",
            "580/580 [==============================] - 129s 222ms/step - loss: 0.4613 - accuracy: 0.7940 - val_loss: 0.4489 - val_accuracy: 0.7995\n",
            "Epoch 3/100\n",
            "580/580 [==============================] - 131s 226ms/step - loss: 0.4373 - accuracy: 0.8076 - val_loss: 0.4690 - val_accuracy: 0.7883\n",
            "Epoch 4/100\n",
            "580/580 [==============================] - 134s 231ms/step - loss: 0.4251 - accuracy: 0.8109 - val_loss: 0.4536 - val_accuracy: 0.8035\n",
            "Epoch 5/100\n",
            "580/580 [==============================] - 133s 229ms/step - loss: 0.4177 - accuracy: 0.8131 - val_loss: 0.4311 - val_accuracy: 0.8147\n",
            "Epoch 6/100\n",
            "580/580 [==============================] - 127s 218ms/step - loss: 0.4135 - accuracy: 0.8155 - val_loss: 0.4709 - val_accuracy: 0.7973\n",
            "Epoch 7/100\n",
            "580/580 [==============================] - 128s 221ms/step - loss: 0.4122 - accuracy: 0.8181 - val_loss: 0.4429 - val_accuracy: 0.8118\n",
            "Epoch 8/100\n",
            "580/580 [==============================] - 129s 222ms/step - loss: 0.4084 - accuracy: 0.8176 - val_loss: 0.4559 - val_accuracy: 0.8093\n",
            "Epoch 9/100\n",
            "580/580 [==============================] - ETA: 0s - loss: 0.4066 - accuracy: 0.8211\n",
            "Epoch 00009: ReduceLROnPlateau reducing learning rate to 0.004999999888241291.\n",
            "580/580 [==============================] - 127s 218ms/step - loss: 0.4066 - accuracy: 0.8211 - val_loss: 0.4511 - val_accuracy: 0.8054\n",
            "Epoch 10/100\n",
            "580/580 [==============================] - 128s 220ms/step - loss: 0.3920 - accuracy: 0.8259 - val_loss: 0.4412 - val_accuracy: 0.8078\n",
            "Epoch 11/100\n",
            "580/580 [==============================] - 128s 222ms/step - loss: 0.3795 - accuracy: 0.8318 - val_loss: 0.4361 - val_accuracy: 0.8164\n",
            "Epoch 12/100\n",
            "580/580 [==============================] - 128s 221ms/step - loss: 0.3747 - accuracy: 0.8339 - val_loss: 0.4452 - val_accuracy: 0.8129\n",
            "Epoch 13/100\n",
            "580/580 [==============================] - 126s 217ms/step - loss: 0.3710 - accuracy: 0.8346 - val_loss: 0.4374 - val_accuracy: 0.8154\n",
            "Epoch 14/100\n",
            "580/580 [==============================] - 127s 218ms/step - loss: 0.3649 - accuracy: 0.8390 - val_loss: 0.4476 - val_accuracy: 0.8117\n",
            "Epoch 15/100\n",
            "580/580 [==============================] - 129s 222ms/step - loss: 0.3660 - accuracy: 0.8383 - val_loss: 0.4332 - val_accuracy: 0.8173\n",
            "Epoch 16/100\n",
            "580/580 [==============================] - 130s 225ms/step - loss: 0.3573 - accuracy: 0.8440 - val_loss: 0.4457 - val_accuracy: 0.8140\n",
            "Epoch 17/100\n",
            "580/580 [==============================] - 131s 227ms/step - loss: 0.3536 - accuracy: 0.8434 - val_loss: 0.4325 - val_accuracy: 0.8159\n",
            "Epoch 18/100\n",
            "580/580 [==============================] - 132s 228ms/step - loss: 0.3535 - accuracy: 0.8430 - val_loss: 0.4469 - val_accuracy: 0.8182\n",
            "Epoch 19/100\n",
            "580/580 [==============================] - 134s 231ms/step - loss: 0.3537 - accuracy: 0.8428 - val_loss: 0.4374 - val_accuracy: 0.8195\n",
            "Epoch 20/100\n",
            "580/580 [==============================] - 138s 238ms/step - loss: 0.3531 - accuracy: 0.8424 - val_loss: 0.4498 - val_accuracy: 0.8153\n",
            "Epoch 21/100\n",
            "580/580 [==============================] - 133s 230ms/step - loss: 0.3483 - accuracy: 0.8436 - val_loss: 0.4595 - val_accuracy: 0.8134\n",
            "Epoch 22/100\n",
            "580/580 [==============================] - 135s 233ms/step - loss: 0.3514 - accuracy: 0.8442 - val_loss: 0.4480 - val_accuracy: 0.8177\n",
            "Epoch 23/100\n",
            "580/580 [==============================] - 138s 238ms/step - loss: 0.3455 - accuracy: 0.8474 - val_loss: 0.4391 - val_accuracy: 0.8202\n",
            "Epoch 24/100\n",
            "580/580 [==============================] - 142s 244ms/step - loss: 0.3416 - accuracy: 0.8509 - val_loss: 0.4422 - val_accuracy: 0.8213\n",
            "Epoch 25/100\n",
            "580/580 [==============================] - 138s 239ms/step - loss: 0.3404 - accuracy: 0.8496 - val_loss: 0.4372 - val_accuracy: 0.8200\n",
            "Epoch 26/100\n",
            "580/580 [==============================] - 137s 237ms/step - loss: 0.3386 - accuracy: 0.8501 - val_loss: 0.4402 - val_accuracy: 0.8217\n",
            "Epoch 27/100\n",
            "580/580 [==============================] - 138s 238ms/step - loss: 0.3404 - accuracy: 0.8500 - val_loss: 0.4354 - val_accuracy: 0.8187\n",
            "Epoch 28/100\n",
            "580/580 [==============================] - 141s 244ms/step - loss: 0.3367 - accuracy: 0.8508 - val_loss: 0.4488 - val_accuracy: 0.8149\n",
            "Epoch 29/100\n",
            "580/580 [==============================] - 145s 249ms/step - loss: 0.3375 - accuracy: 0.8507 - val_loss: 0.4359 - val_accuracy: 0.8210\n",
            "Epoch 30/100\n",
            "580/580 [==============================] - ETA: 0s - loss: 0.3360 - accuracy: 0.8502\n",
            "Epoch 00030: ReduceLROnPlateau reducing learning rate to 0.0024999999441206455.\n",
            "580/580 [==============================] - 146s 252ms/step - loss: 0.3360 - accuracy: 0.8502 - val_loss: 0.4469 - val_accuracy: 0.8172\n",
            "Epoch 31/100\n",
            "580/580 [==============================] - 141s 243ms/step - loss: 0.3273 - accuracy: 0.8556 - val_loss: 0.4399 - val_accuracy: 0.8204\n",
            "Epoch 32/100\n",
            "580/580 [==============================] - 143s 246ms/step - loss: 0.3258 - accuracy: 0.8572 - val_loss: 0.4438 - val_accuracy: 0.8234\n",
            "Epoch 33/100\n",
            "580/580 [==============================] - 141s 242ms/step - loss: 0.3224 - accuracy: 0.8575 - val_loss: 0.4487 - val_accuracy: 0.8228\n",
            "Epoch 34/100\n",
            "580/580 [==============================] - 138s 239ms/step - loss: 0.3201 - accuracy: 0.8605 - val_loss: 0.4372 - val_accuracy: 0.8233\n",
            "Epoch 35/100\n",
            "580/580 [==============================] - 139s 240ms/step - loss: 0.3177 - accuracy: 0.8590 - val_loss: 0.4505 - val_accuracy: 0.8205\n",
            "Epoch 36/100\n",
            "580/580 [==============================] - ETA: 0s - loss: 0.3138 - accuracy: 0.8630\n",
            "Epoch 00036: ReduceLROnPlateau reducing learning rate to 0.0012499999720603228.\n",
            "580/580 [==============================] - 142s 245ms/step - loss: 0.3138 - accuracy: 0.8630 - val_loss: 0.4543 - val_accuracy: 0.8229\n",
            "Epoch 37/100\n",
            "580/580 [==============================] - 141s 243ms/step - loss: 0.3121 - accuracy: 0.8629 - val_loss: 0.4437 - val_accuracy: 0.8217\n",
            "Epoch 38/100\n",
            "580/580 [==============================] - 143s 247ms/step - loss: 0.3096 - accuracy: 0.8629 - val_loss: 0.4441 - val_accuracy: 0.8238\n",
            "Epoch 39/100\n",
            "580/580 [==============================] - 139s 240ms/step - loss: 0.3077 - accuracy: 0.8653 - val_loss: 0.4554 - val_accuracy: 0.8213\n",
            "Epoch 40/100\n",
            "580/580 [==============================] - 141s 244ms/step - loss: 0.3069 - accuracy: 0.8650 - val_loss: 0.4415 - val_accuracy: 0.8263\n",
            "Epoch 41/100\n",
            "580/580 [==============================] - 136s 235ms/step - loss: 0.3040 - accuracy: 0.8652 - val_loss: 0.4499 - val_accuracy: 0.8272\n",
            "Epoch 42/100\n",
            "580/580 [==============================] - 135s 232ms/step - loss: 0.3039 - accuracy: 0.8666 - val_loss: 0.4489 - val_accuracy: 0.8278\n",
            "Epoch 43/100\n",
            "580/580 [==============================] - 135s 233ms/step - loss: 0.3016 - accuracy: 0.8650 - val_loss: 0.4495 - val_accuracy: 0.8239\n",
            "Epoch 44/100\n",
            "580/580 [==============================] - 139s 240ms/step - loss: 0.3002 - accuracy: 0.8681 - val_loss: 0.4512 - val_accuracy: 0.8232\n",
            "Epoch 45/100\n",
            "580/580 [==============================] - 139s 240ms/step - loss: 0.3017 - accuracy: 0.8659 - val_loss: 0.4545 - val_accuracy: 0.8266\n",
            "Epoch 46/100\n",
            "580/580 [==============================] - 139s 239ms/step - loss: 0.2978 - accuracy: 0.8697 - val_loss: 0.4470 - val_accuracy: 0.8294\n",
            "Epoch 47/100\n",
            "580/580 [==============================] - 140s 241ms/step - loss: 0.2968 - accuracy: 0.8690 - val_loss: 0.4541 - val_accuracy: 0.8238\n",
            "Epoch 48/100\n",
            "580/580 [==============================] - 138s 238ms/step - loss: 0.2988 - accuracy: 0.8679 - val_loss: 0.4540 - val_accuracy: 0.8247\n",
            "Epoch 49/100\n",
            "580/580 [==============================] - 137s 237ms/step - loss: 0.2952 - accuracy: 0.8711 - val_loss: 0.4480 - val_accuracy: 0.8275\n",
            "Epoch 50/100\n",
            "580/580 [==============================] - ETA: 0s - loss: 0.2933 - accuracy: 0.8693\n",
            "Epoch 00050: ReduceLROnPlateau reducing learning rate to 0.0006249999860301614.\n",
            "580/580 [==============================] - 142s 245ms/step - loss: 0.2933 - accuracy: 0.8693 - val_loss: 0.4555 - val_accuracy: 0.8257\n",
            "Epoch 51/100\n",
            "580/580 [==============================] - 143s 246ms/step - loss: 0.2915 - accuracy: 0.8698 - val_loss: 0.4557 - val_accuracy: 0.8272\n",
            "Epoch 52/100\n",
            "580/580 [==============================] - 144s 248ms/step - loss: 0.2928 - accuracy: 0.8712 - val_loss: 0.4510 - val_accuracy: 0.8287\n",
            "Epoch 53/100\n",
            "580/580 [==============================] - 142s 245ms/step - loss: 0.2888 - accuracy: 0.8728 - val_loss: 0.4571 - val_accuracy: 0.8272\n",
            "Epoch 54/100\n",
            "345/580 [================>.............] - ETA: 57s - loss: 0.2889 - accuracy: 0.8709"
          ],
          "name": "stdout"
        }
      ]
    },
    {
      "cell_type": "code",
      "metadata": {
        "id": "hl-67UYQ5XqD"
      },
      "source": [
        "hist = pd.DataFrame(history.history)"
      ],
      "execution_count": null,
      "outputs": []
    },
    {
      "cell_type": "code",
      "metadata": {
        "id": "_yuxbhgJ5XqE"
      },
      "source": [
        "sns.set(style='white')\n",
        "\n",
        "fig, ax = plt.subplots(1, 2, figsize=(12, 5))\n",
        "\n",
        "sns.lineplot(x=hist.index, y='loss', data=hist, label='Training loss', ax=ax[0])\n",
        "sns.lineplot(x=hist.index, y='val_loss', data=hist, label='Validation loss', ax=ax[0])\n",
        "\n",
        "ax[0].set(xlabel='Epochs', ylabel='Loss')\n",
        "ax[0].set_title('Training and Validation Loss', fontsize=14)\n",
        "\n",
        "sns.lineplot(x=hist.index, y='accuracy', data=hist, label='Training accuracy', ax=ax[1])\n",
        "\n",
        "sns.lineplot(x=hist.index, y='val_accuracy', data=hist, label='Validation accuracy', ax=ax[1])\n",
        "\n",
        "ax[1].set(xlabel='Epochs', ylabel='Accuracy')\n",
        "ax[1].set_title('Training and Validation Accuracy', fontsize=14)\n",
        "\n",
        "sns.despine()             \n",
        "plt.tight_layout();"
      ],
      "execution_count": null,
      "outputs": []
    },
    {
      "cell_type": "code",
      "metadata": {
        "id": "Txg4zGxb5XqF"
      },
      "source": [
        "_, accuracy = classifier.evaluate(X_test_pad, y_test, batch_size=1024, verbose=0)\n",
        "print(f'Accuracy: {accuracy:.2%}')"
      ],
      "execution_count": null,
      "outputs": []
    },
    {
      "cell_type": "code",
      "metadata": {
        "id": "xd2w6nyK5XqI"
      },
      "source": [
        "preds = np.argmax(classifier.predict(X_test_pad, batch_size=1024), axis=1)\n",
        "\n",
        "\n",
        "fig, ax = plt.subplots(1, 2, figsize=(12, 5))\n",
        "sns.heatmap(confusion_matrix(y_test, preds),\n",
        "            cmap='Blues',\n",
        "            center=None,\n",
        "            annot=True,\n",
        "            fmt='d',\n",
        "            linewidths=1,\n",
        "            cbar=False,\n",
        "            square=True,\n",
        "            xticklabels=target_names,\n",
        "            yticklabels=target_names,\n",
        "            ax=ax[0])\n",
        "            \n",
        "ax[0].set_title('Confusion Matrix', fontsize=14)    \n",
        "\n",
        "sns.heatmap(confusion_matrix(y_test, preds, normalize='true'),\n",
        "            cmap='Blues',\n",
        "            center=None,\n",
        "            annot=True,\n",
        "            fmt='.0%',\n",
        "            linewidths=1,\n",
        "            cbar=False,\n",
        "            square=True,\n",
        "            xticklabels=target_names,\n",
        "            yticklabels=target_names,\n",
        "            ax=ax[1])\n",
        "ax[1].set_title('Confusion Matrix (Normalized)', fontsize=14) \n",
        "\n",
        "plt.tight_layout();"
      ],
      "execution_count": null,
      "outputs": []
    },
    {
      "cell_type": "code",
      "metadata": {
        "id": "Ex2Esjww5XqJ"
      },
      "source": [
        "print(classification_report(y_test, preds, target_names=target_names));"
      ],
      "execution_count": null,
      "outputs": []
    },
    {
      "cell_type": "markdown",
      "metadata": {
        "id": "0C9G3wft-na_"
      },
      "source": [
        "\n",
        "\n",
        "\n",
        "                      precision    recall  f1-score   support\n",
        "    \n",
        "        negative       0.78      0.69      0.73      6480\n",
        "         neutral       0.92      0.96      0.94      6655\n",
        "        positive       0.70      0.76      0.73      6443\n",
        "    \n",
        "        accuracy                           0.80     19578\n",
        "       macro avg       0.80      0.80      0.80     19578\n",
        "    weighted avg       0.80      0.80      0.80     19578\n",
        "\n",
        "                  \n",
        "                  precision    recall  f1-score   support\n",
        "    \n",
        "        negative       0.81      0.70      0.75      6667\n",
        "        positive       0.73      0.79      0.76      6667\n",
        "         neutral       0.94      0.98      0.96      6666\n",
        "    \n",
        "        accuracy                           0.82     20000\n",
        "       macro avg       0.82      0.82      0.82     20000\n",
        "    weighted avg       0.82      0.82      0.82     20000\n",
        "\n",
        "                  \n",
        "                  precision    recall  f1-score   support\n",
        "    \n",
        "        negative       0.72      0.74      0.73      6667\n",
        "        positive       0.72      0.69      0.70      6667\n",
        "         neutral       0.93      0.95      0.94      6666\n",
        "    \n",
        "        accuracy                           0.79     20000\n",
        "       macro avg       0.79      0.79      0.79     20000\n",
        "    weighted avg       0.79      0.79      0.79     20000"
      ]
    },
    {
      "cell_type": "markdown",
      "metadata": {
        "id": "QGT3rr_65XqL"
      },
      "source": [
        "[20+ POPULAR NLP TEXT PREPROCESSING TECHNIQUES IMPLEMENTATION IN PYTHON](https://dataaspirant.com/nlp-text-preprocessing-techniques-implementation-python/#t-1600081660727)"
      ]
    }
  ]
}